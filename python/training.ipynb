{
 "cells": [
  {
   "cell_type": "code",
   "execution_count": 1,
   "metadata": {
    "colab": {
     "base_uri": "https://localhost:8080/"
    },
    "id": "VXntUIcUvQWw",
    "outputId": "fc162060-9337-4364-b9be-02bd91ac91aa"
   },
   "outputs": [],
   "source": [
    "import tensorflow as tf\n",
    "import tensorflow_addons as tfa\n",
    "\n",
    "import matplotlib.pyplot as plt\n",
    "import matplotlib.ticker as ticker\n",
    "from sklearn.model_selection import train_test_split\n",
    "\n",
    "import unicodedata\n",
    "import re\n",
    "import numpy as np\n",
    "import os\n",
    "import io\n",
    "import time"
   ]
  },
  {
   "cell_type": "code",
   "execution_count": 2,
   "metadata": {
    "id": "zJ3KgaDcv0BS"
   },
   "outputs": [],
   "source": [
    "def download_nmt():\n",
    "#     path_to_zip = tf.keras.utils.get_file(\n",
    "#     'spa-eng.zip', origin='http://storage.googleapis.com/download.tensorflow.org/data/spa-eng.zip',\n",
    "#     extract=True)\n",
    "\n",
    "#     path_to_file = os.path.dirname(path_to_zip)+\"/spa-eng/spa.txt\"\n",
    "    #path_to_file = \"./ace-ind/datates.txt\"\n",
    "    path_to_file = \"./ace-ind/datates.txt\"\n",
    "#     path_to_file = \"./spa-eng/spa.txt\"\n",
    "    return path_to_file"
   ]
  },
  {
   "cell_type": "code",
   "execution_count": 3,
   "metadata": {
    "id": "rCR_F3_1v3EI"
   },
   "outputs": [],
   "source": [
    "class NMTDataset:\n",
    "    def __init__(self, problem_type='id-ace'):\n",
    "        self.problem_type = 'id-ace'\n",
    "        self.inp_lang_tokenizer = None\n",
    "        self.targ_lang_tokenizer = None\n",
    "    \n",
    "\n",
    "    def unicode_to_ascii(self, s):\n",
    "        return ''.join(c for c in unicodedata.normalize('NFD', s) if unicodedata.category(c) != 'Mn')\n",
    "\n",
    "    ## Step 1 and Step 2 \n",
    "    def preprocess_sentence(self, w):\n",
    "        w = self.unicode_to_ascii(w.lower().strip())\n",
    "\n",
    "        # creating a space between a word and the punctuation following it\n",
    "        # eg: \"he is a boy.\" => \"he is a boy .\"\n",
    "        # Reference:- https://stackoverflow.com/questions/3645931/python-padding-punctuation-with-white-spaces-keeping-punctuation\n",
    "        w = re.sub(r\"([?.!,¿])\", r\" \\1 \", w)\n",
    "        w = re.sub(r'[\" \"]+', \" \", w)\n",
    "\n",
    "        # replacing everything with space except (a-z, A-Z, \".\", \"?\", \"!\", \",\")\n",
    "        w = re.sub(r\"[^a-zA-Z?.!,¿]+\", \" \", w)\n",
    "\n",
    "        w = w.strip()\n",
    "\n",
    "        # adding a start and an end token to the sentence\n",
    "        # so that the model know when to start and stop predicting.\n",
    "        w = '<start> ' + w + ' <end>'\n",
    "        return w\n",
    "    \n",
    "    def create_dataset(self, path, num_examples):\n",
    "        # path : path to spa-eng.txt file\n",
    "        # num_examples : Limit the total number of training example for faster training (set num_examples = len(lines) to use full data)\n",
    "        lines = io.open(path, encoding='UTF-8').read().strip().split('\\n')\n",
    "        word_pairs = [[self.preprocess_sentence(w) for w in l.split('\\t')]  for l in lines[:num_examples]]\n",
    "\n",
    "        return zip(*word_pairs)\n",
    "\n",
    "    # Step 3 and Step 4\n",
    "    def tokenize(self, lang):\n",
    "        # lang = list of sentences in a language\n",
    "        \n",
    "        # print(len(lang), \"example sentence: {}\".format(lang[0]))\n",
    "        lang_tokenizer = tf.keras.preprocessing.text.Tokenizer(filters='', oov_token='<OOV>')\n",
    "        lang_tokenizer.fit_on_texts(lang)\n",
    "\n",
    "        ## tf.keras.preprocessing.text.Tokenizer.texts_to_sequences converts string (w1, w2, w3, ......, wn) \n",
    "        ## to a list of correspoding integer ids of words (id_w1, id_w2, id_w3, ...., id_wn)\n",
    "        tensor = lang_tokenizer.texts_to_sequences(lang) \n",
    "\n",
    "        ## tf.keras.preprocessing.sequence.pad_sequences takes argument a list of integer id sequences \n",
    "        ## and pads the sequences to match the longest sequences in the given input\n",
    "        tensor = tf.keras.preprocessing.sequence.pad_sequences(tensor, padding='post')\n",
    "\n",
    "        return tensor, lang_tokenizer\n",
    "\n",
    "    def load_dataset(self, path, num_examples=None):\n",
    "        # creating cleaned input, output pairs\n",
    "        targ_lang, inp_lang = self.create_dataset(path, num_examples)\n",
    "\n",
    "        input_tensor, inp_lang_tokenizer = self.tokenize(inp_lang)\n",
    "        target_tensor, targ_lang_tokenizer = self.tokenize(targ_lang)\n",
    "\n",
    "        return input_tensor, target_tensor, inp_lang_tokenizer, targ_lang_tokenizer\n",
    "\n",
    "    def call(self, num_examples, BUFFER_SIZE, BATCH_SIZE):\n",
    "        file_path = download_nmt()\n",
    "        input_tensor, target_tensor, self.inp_lang_tokenizer, self.targ_lang_tokenizer = self.load_dataset(file_path, num_examples)\n",
    "        \n",
    "        input_tensor_train, input_tensor_val, target_tensor_train, target_tensor_val = train_test_split(input_tensor, target_tensor, test_size=0.2)\n",
    "\n",
    "        train_dataset = tf.data.Dataset.from_tensor_slices((input_tensor_train, target_tensor_train))\n",
    "        train_dataset = train_dataset.shuffle(BUFFER_SIZE).batch(BATCH_SIZE, drop_remainder=True)\n",
    "\n",
    "        val_dataset = tf.data.Dataset.from_tensor_slices((input_tensor_val, target_tensor_val))\n",
    "        val_dataset = val_dataset.batch(BATCH_SIZE, drop_remainder=True)\n",
    "\n",
    "        return train_dataset, val_dataset, self.inp_lang_tokenizer, self.targ_lang_tokenizer"
   ]
  },
  {
   "cell_type": "code",
   "execution_count": 4,
   "metadata": {
    "id": "nWI0ON39v3P3"
   },
   "outputs": [],
   "source": [
    "BUFFER_SIZE = 650\n",
    "BATCH_SIZE = 32\n",
    "# Let's limit the #training examples for faster training\n",
    "num_examples = 1300\n",
    "\n",
    "dataset_creator = NMTDataset('id-ace')\n",
    "train_dataset, val_dataset, inp_lang, targ_lang = dataset_creator.call(num_examples, BUFFER_SIZE, BATCH_SIZE)"
   ]
  },
  {
   "cell_type": "code",
   "execution_count": 5,
   "metadata": {
    "colab": {
     "base_uri": "https://localhost:8080/"
    },
    "id": "_UW3Vsplv3Ya",
    "outputId": "58901197-5de3-4842-ba34-382bae55cb6c"
   },
   "outputs": [
    {
     "data": {
      "text/plain": [
       "(TensorShape([32, 11]), TensorShape([32, 12]))"
      ]
     },
     "execution_count": 5,
     "metadata": {},
     "output_type": "execute_result"
    }
   ],
   "source": [
    "example_input_batch, example_target_batch = next(iter(train_dataset))\n",
    "example_input_batch.shape, example_target_batch.shape"
   ]
  },
  {
   "cell_type": "code",
   "execution_count": 6,
   "metadata": {
    "id": "u0xu2oQEv3b7"
   },
   "outputs": [],
   "source": [
    "vocab_inp_size = len(inp_lang.word_index)+1\n",
    "vocab_tar_size = len(targ_lang.word_index)+1\n",
    "max_length_input = example_input_batch.shape[1]\n",
    "max_length_output = example_target_batch.shape[1]\n",
    "\n",
    "embedding_dim = 256\n",
    "units = 1300\n",
    "steps_per_epoch = num_examples//BATCH_SIZE"
   ]
  },
  {
   "cell_type": "code",
   "execution_count": 7,
   "metadata": {
    "colab": {
     "base_uri": "https://localhost:8080/"
    },
    "id": "ReEhwY3Mv3fG",
    "outputId": "e3d946fd-904d-4666-8082-c6995395592e"
   },
   "outputs": [
    {
     "name": "stdout",
     "output_type": "stream",
     "text": [
      "max_length_aceh, max_length_indonesia, vocab_size_aceh, vocab_size_indonesia\n"
     ]
    },
    {
     "data": {
      "text/plain": [
       "(11, 12, 697, 811)"
      ]
     },
     "execution_count": 7,
     "metadata": {},
     "output_type": "execute_result"
    }
   ],
   "source": [
    "print(\"max_length_aceh, max_length_indonesia, vocab_size_aceh, vocab_size_indonesia\")\n",
    "max_length_input, max_length_output, vocab_inp_size, vocab_tar_size"
   ]
  },
  {
   "cell_type": "code",
   "execution_count": 8,
   "metadata": {
    "id": "93YC8ejbv3h5"
   },
   "outputs": [],
   "source": [
    "##### \n",
    "\n",
    "class Encoder(tf.keras.Model):\n",
    "  def __init__(self, vocab_size, embedding_dim, enc_units, batch_sz):\n",
    "    super(Encoder, self).__init__()\n",
    "    self.batch_sz = batch_sz\n",
    "    self.enc_units = enc_units\n",
    "    self.embedding = tf.keras.layers.Embedding(vocab_size, embedding_dim)\n",
    "\n",
    "    ##-------- LSTM layer in Encoder ------- ##\n",
    "    self.lstm_layer = tf.keras.layers.LSTM(self.enc_units,\n",
    "                                   return_sequences=True,\n",
    "                                   return_state=True,\n",
    "                                   recurrent_initializer='glorot_uniform')\n",
    "    \n",
    "\n",
    "\n",
    "  def call(self, x, hidden):\n",
    "    x = self.embedding(x)\n",
    "    output, h, c = self.lstm_layer(x, initial_state = hidden)\n",
    "    return output, h, c\n",
    "\n",
    "  def initialize_hidden_state(self):\n",
    "    return [tf.zeros((self.batch_sz, self.enc_units)), tf.zeros((self.batch_sz, self.enc_units))] "
   ]
  },
  {
   "cell_type": "code",
   "execution_count": 9,
   "metadata": {
    "colab": {
     "base_uri": "https://localhost:8080/"
    },
    "id": "Zjq7PDg4v3k7",
    "outputId": "a2e56595-2d57-465f-8167-a83fa2b9bf69"
   },
   "outputs": [
    {
     "name": "stdout",
     "output_type": "stream",
     "text": [
      "Encoder output shape: (batch size, sequence length, units) (32, 11, 1300)\n",
      "Encoder h vecotr shape: (batch size, units) (32, 1300)\n",
      "Encoder c vector shape: (batch size, units) (32, 1300)\n"
     ]
    }
   ],
   "source": [
    "## Test Encoder Stack\n",
    "\n",
    "encoder = Encoder(vocab_inp_size, embedding_dim, units, BATCH_SIZE)\n",
    "\n",
    "\n",
    "# sample input\n",
    "sample_hidden = encoder.initialize_hidden_state()\n",
    "sample_output, sample_h, sample_c = encoder(example_input_batch, sample_hidden)\n",
    "print ('Encoder output shape: (batch size, sequence length, units) {}'.format(sample_output.shape))\n",
    "print ('Encoder h vecotr shape: (batch size, units) {}'.format(sample_h.shape))\n",
    "print ('Encoder c vector shape: (batch size, units) {}'.format(sample_c.shape))"
   ]
  },
  {
   "cell_type": "code",
   "execution_count": 10,
   "metadata": {
    "id": "PexsKvDpv3n4"
   },
   "outputs": [],
   "source": [
    "class Decoder(tf.keras.Model):\n",
    "  def __init__(self, vocab_size, embedding_dim, dec_units, batch_sz, attention_type='luong'):\n",
    "    super(Decoder, self).__init__()\n",
    "    self.batch_sz = batch_sz\n",
    "    self.dec_units = dec_units\n",
    "    self.attention_type = attention_type\n",
    "    \n",
    "    # Embedding Layer\n",
    "    self.embedding = tf.keras.layers.Embedding(vocab_size, embedding_dim)\n",
    "    \n",
    "    #Final Dense layer on which softmax will be applied\n",
    "    self.fc = tf.keras.layers.Dense(vocab_size)\n",
    "\n",
    "    # Define the fundamental cell for decoder recurrent structure\n",
    "    self.decoder_rnn_cell = tf.keras.layers.LSTMCell(self.dec_units)\n",
    "   \n",
    "\n",
    "\n",
    "    # Sampler\n",
    "    self.sampler = tfa.seq2seq.sampler.TrainingSampler()\n",
    "\n",
    "    # Create attention mechanism with memory = None\n",
    "    self.attention_mechanism = self.build_attention_mechanism(self.dec_units, \n",
    "                                                              None, self.batch_sz*[max_length_input], self.attention_type)\n",
    "\n",
    "    # Wrap attention mechanism with the fundamental rnn cell of decoder\n",
    "    self.rnn_cell = self.build_rnn_cell(batch_sz)\n",
    "\n",
    "    # Define the decoder with respect to fundamental rnn cell\n",
    "    self.decoder = tfa.seq2seq.BasicDecoder(self.rnn_cell, sampler=self.sampler, output_layer=self.fc)\n",
    "\n",
    "    \n",
    "  def build_rnn_cell(self, batch_sz):\n",
    "    rnn_cell = tfa.seq2seq.AttentionWrapper(self.decoder_rnn_cell, \n",
    "                                  self.attention_mechanism, attention_layer_size=self.dec_units)\n",
    "    return rnn_cell\n",
    "\n",
    "  def build_attention_mechanism(self, dec_units, memory, memory_sequence_length, attention_type='luong'):\n",
    "    # ------------- #\n",
    "    # typ: Which sort of attention (Bahdanau, Luong)\n",
    "    # dec_units: final dimension of attention outputs \n",
    "    # memory: encoder hidden states of shape (batch_size, max_length_input, enc_units)\n",
    "    # memory_sequence_length: 1d array of shape (batch_size) with every element set to max_length_input (for masking purpose)\n",
    "\n",
    "    if(attention_type=='bahdanau'):\n",
    "      return tfa.seq2seq.BahdanauAttention(units=dec_units, memory=memory, memory_sequence_length=memory_sequence_length)\n",
    "    else:\n",
    "      return tfa.seq2seq.LuongAttention(units=dec_units, memory=memory, memory_sequence_length=memory_sequence_length)\n",
    "\n",
    "  def build_initial_state(self, batch_sz, encoder_state, Dtype):\n",
    "    decoder_initial_state = self.rnn_cell.get_initial_state(batch_size=batch_sz, dtype=Dtype)\n",
    "    decoder_initial_state = decoder_initial_state.clone(cell_state=encoder_state)\n",
    "    return decoder_initial_state\n",
    "\n",
    "\n",
    "  def call(self, inputs, initial_state):\n",
    "    x = self.embedding(inputs)\n",
    "    outputs, _, _ = self.decoder(x, initial_state=initial_state, sequence_length=self.batch_sz*[max_length_output-1])\n",
    "    return outputs\n"
   ]
  },
  {
   "cell_type": "code",
   "execution_count": 11,
   "metadata": {
    "colab": {
     "base_uri": "https://localhost:8080/"
    },
    "id": "wMkSIDxJv3q-",
    "outputId": "c29ec601-6deb-4c06-8284-0b2eebadf56b"
   },
   "outputs": [
    {
     "name": "stdout",
     "output_type": "stream",
     "text": [
      "Decoder Outputs Shape:  (32, 11, 811)\n"
     ]
    }
   ],
   "source": [
    "# Test decoder stack\n",
    "\n",
    "decoder = Decoder(vocab_tar_size, embedding_dim, units, BATCH_SIZE, 'luong')\n",
    "sample_x = tf.random.uniform((BATCH_SIZE, max_length_output))\n",
    "decoder.attention_mechanism.setup_memory(sample_output)\n",
    "initial_state = decoder.build_initial_state(BATCH_SIZE, [sample_h, sample_c], tf.float32)\n",
    "\n",
    "\n",
    "sample_decoder_outputs = decoder(sample_x, initial_state)\n",
    "\n",
    "print(\"Decoder Outputs Shape: \", sample_decoder_outputs.rnn_output.shape)\n"
   ]
  },
  {
   "cell_type": "code",
   "execution_count": 12,
   "metadata": {
    "id": "ZWpJdshhv3t6"
   },
   "outputs": [],
   "source": [
    "optimizer = tf.keras.optimizers.Adam()\n",
    "\n",
    "\n",
    "def loss_function(real, pred):\n",
    "  # real shape = (BATCH_SIZE, max_length_output)\n",
    "  # pred shape = (BATCH_SIZE, max_length_output, tar_vocab_size )\n",
    "  cross_entropy = tf.keras.losses.SparseCategoricalCrossentropy(from_logits=True, reduction='none')\n",
    "  loss = cross_entropy(y_true=real, y_pred=pred)\n",
    "  mask = tf.logical_not(tf.math.equal(real,0))   #output 0 for y=0 else output 1\n",
    "  mask = tf.cast(mask, dtype=loss.dtype)  \n",
    "  loss = mask* loss\n",
    "  loss = tf.reduce_mean(loss)\n",
    "  return loss  "
   ]
  },
  {
   "cell_type": "code",
   "execution_count": 13,
   "metadata": {
    "id": "7argQAPzv3w8"
   },
   "outputs": [],
   "source": [
    "checkpoint_dir = './training_checkpoints'\n",
    "checkpoint_prefix = os.path.join(checkpoint_dir, \"ckpt\")\n",
    "checkpoint = tf.train.Checkpoint(optimizer=optimizer,\n",
    "                                 encoder=encoder,\n",
    "                                 decoder=decoder)"
   ]
  },
  {
   "cell_type": "code",
   "execution_count": 14,
   "metadata": {
    "id": "rGY5Yfd7v3z-"
   },
   "outputs": [],
   "source": [
    "@tf.function\n",
    "def train_step(inp, targ, enc_hidden):\n",
    "  loss = 0\n",
    "\n",
    "  with tf.GradientTape() as tape:\n",
    "    enc_output, enc_h, enc_c = encoder(inp, enc_hidden)\n",
    "\n",
    "\n",
    "    dec_input = targ[ : , :-1 ] # Ignore <end> token\n",
    "    real = targ[ : , 1: ]         # ignore <start> token\n",
    "\n",
    "    # Set the AttentionMechanism object with encoder_outputs\n",
    "    decoder.attention_mechanism.setup_memory(enc_output)\n",
    "\n",
    "    # Create AttentionWrapperState as initial_state for decoder\n",
    "    decoder_initial_state = decoder.build_initial_state(BATCH_SIZE, [enc_h, enc_c], tf.float32)\n",
    "    pred = decoder(dec_input, decoder_initial_state)\n",
    "    logits = pred.rnn_output\n",
    "    loss = loss_function(real, logits)\n",
    "\n",
    "  variables = encoder.trainable_variables + decoder.trainable_variables\n",
    "  gradients = tape.gradient(loss, variables)\n",
    "  optimizer.apply_gradients(zip(gradients, variables))\n",
    "\n",
    "  return loss"
   ]
  },
  {
   "cell_type": "code",
   "execution_count": 15,
   "metadata": {
    "colab": {
     "base_uri": "https://localhost:8080/"
    },
    "id": "Il_ph_7uv322",
    "outputId": "91a18f51-6576-4352-bd75-0eeef25c60c4"
   },
   "outputs": [
    {
     "name": "stdout",
     "output_type": "stream",
     "text": [
      "Epoch 1 Batch 0 Loss 3.31212\n",
      "Epoch 1 Loss 2.03915\n",
      "Time taken for 1 epoch 33.215601205825806 sec\n",
      "\n",
      "Epoch 2 Batch 0 Loss 2.09589\n",
      "Epoch 2 Loss 1.41118\n",
      "Time taken for 1 epoch 27.759023904800415 sec\n",
      "\n",
      "Epoch 3 Batch 0 Loss 1.58084\n",
      "Epoch 3 Loss 1.23032\n",
      "Time taken for 1 epoch 26.963063716888428 sec\n",
      "\n",
      "Epoch 4 Batch 0 Loss 1.39971\n",
      "Epoch 4 Loss 1.14108\n",
      "Time taken for 1 epoch 27.77260398864746 sec\n",
      "\n",
      "Epoch 5 Batch 0 Loss 1.18298\n",
      "Epoch 5 Loss 1.14715\n",
      "Time taken for 1 epoch 27.521191596984863 sec\n",
      "\n",
      "Epoch 6 Batch 0 Loss 1.24860\n",
      "Epoch 6 Loss 0.96399\n",
      "Time taken for 1 epoch 28.049736738204956 sec\n",
      "\n",
      "Epoch 7 Batch 0 Loss 1.23886\n",
      "Epoch 7 Loss 0.83249\n",
      "Time taken for 1 epoch 28.13473868370056 sec\n",
      "\n",
      "Epoch 8 Batch 0 Loss 0.94425\n",
      "Epoch 8 Loss 0.72145\n",
      "Time taken for 1 epoch 28.260355234146118 sec\n",
      "\n",
      "Epoch 9 Batch 0 Loss 0.71283\n",
      "Epoch 9 Loss 0.61268\n",
      "Time taken for 1 epoch 26.946061372756958 sec\n",
      "\n",
      "Epoch 10 Batch 0 Loss 0.61457\n",
      "Epoch 10 Loss 0.52458\n",
      "Time taken for 1 epoch 27.49618124961853 sec\n",
      "\n",
      "Epoch 11 Batch 0 Loss 0.54170\n",
      "Epoch 11 Loss 0.47511\n",
      "Time taken for 1 epoch 26.67199993133545 sec\n",
      "\n",
      "Epoch 12 Batch 0 Loss 0.56416\n",
      "Epoch 12 Loss 0.41717\n",
      "Time taken for 1 epoch 27.173473834991455 sec\n",
      "\n",
      "Epoch 13 Batch 0 Loss 0.40810\n",
      "Epoch 13 Loss 0.35811\n",
      "Time taken for 1 epoch 26.21989893913269 sec\n",
      "\n",
      "Epoch 14 Batch 0 Loss 0.38030\n",
      "Epoch 14 Loss 0.26659\n",
      "Time taken for 1 epoch 26.8086576461792 sec\n",
      "\n",
      "Epoch 15 Batch 0 Loss 0.17606\n",
      "Epoch 15 Loss 0.21367\n",
      "Time taken for 1 epoch 26.650995016098022 sec\n",
      "\n",
      "Epoch 16 Batch 0 Loss 0.25631\n",
      "Epoch 16 Loss 0.16355\n",
      "Time taken for 1 epoch 27.458834886550903 sec\n",
      "\n",
      "Epoch 17 Batch 0 Loss 0.15978\n",
      "Epoch 17 Loss 0.13203\n",
      "Time taken for 1 epoch 26.930050373077393 sec\n",
      "\n",
      "Epoch 18 Batch 0 Loss 0.10394\n",
      "Epoch 18 Loss 0.13720\n",
      "Time taken for 1 epoch 27.604570388793945 sec\n",
      "\n",
      "Epoch 19 Batch 0 Loss 0.11924\n",
      "Epoch 19 Loss 0.12235\n",
      "Time taken for 1 epoch 26.85603404045105 sec\n",
      "\n",
      "Epoch 20 Batch 0 Loss 0.05566\n",
      "Epoch 20 Loss 0.09732\n",
      "Time taken for 1 epoch 27.616374015808105 sec\n",
      "\n",
      "Epoch 21 Batch 0 Loss 0.07502\n",
      "Epoch 21 Loss 0.08828\n",
      "Time taken for 1 epoch 27.276135444641113 sec\n",
      "\n",
      "Epoch 22 Batch 0 Loss 0.06933\n",
      "Epoch 22 Loss 0.05672\n",
      "Time taken for 1 epoch 28.017104387283325 sec\n",
      "\n",
      "Epoch 23 Batch 0 Loss 0.07155\n",
      "Epoch 23 Loss 0.04312\n",
      "Time taken for 1 epoch 26.955065488815308 sec\n",
      "\n",
      "Epoch 24 Batch 0 Loss 0.05606\n",
      "Epoch 24 Loss 0.05664\n",
      "Time taken for 1 epoch 27.57513976097107 sec\n",
      "\n",
      "Epoch 25 Batch 0 Loss 0.04387\n",
      "Epoch 25 Loss 0.09908\n",
      "Time taken for 1 epoch 26.953062295913696 sec\n",
      "\n",
      "Epoch 26 Batch 0 Loss 0.11100\n",
      "Epoch 26 Loss 0.08127\n",
      "Time taken for 1 epoch 27.61280393600464 sec\n",
      "\n",
      "Epoch 27 Batch 0 Loss 0.10875\n",
      "Epoch 27 Loss 0.07226\n",
      "Time taken for 1 epoch 26.78054428100586 sec\n",
      "\n",
      "Epoch 28 Batch 0 Loss 0.04268\n",
      "Epoch 28 Loss 0.06930\n",
      "Time taken for 1 epoch 27.57576274871826 sec\n",
      "\n",
      "Epoch 29 Batch 0 Loss 0.04887\n",
      "Epoch 29 Loss 0.05578\n",
      "Time taken for 1 epoch 26.891048908233643 sec\n",
      "\n",
      "Epoch 30 Batch 0 Loss 0.05459\n",
      "Epoch 30 Loss 0.04939\n",
      "Time taken for 1 epoch 27.58220362663269 sec\n",
      "\n",
      "Epoch 31 Batch 0 Loss 0.01603\n",
      "Epoch 31 Loss 0.04150\n",
      "Time taken for 1 epoch 26.90805435180664 sec\n",
      "\n",
      "Epoch 32 Batch 0 Loss 0.02514\n",
      "Epoch 32 Loss 0.03773\n",
      "Time taken for 1 epoch 27.671934604644775 sec\n",
      "\n",
      "Epoch 33 Batch 0 Loss 0.02757\n",
      "Epoch 33 Loss 0.02334\n",
      "Time taken for 1 epoch 26.877046823501587 sec\n",
      "\n",
      "Epoch 34 Batch 0 Loss 0.02591\n",
      "Epoch 34 Loss 0.01502\n",
      "Time taken for 1 epoch 27.573694944381714 sec\n",
      "\n",
      "Epoch 35 Batch 0 Loss 0.00283\n",
      "Epoch 35 Loss 0.01047\n",
      "Time taken for 1 epoch 26.910053730010986 sec\n",
      "\n",
      "Epoch 36 Batch 0 Loss 0.00243\n",
      "Epoch 36 Loss 0.00821\n",
      "Time taken for 1 epoch 27.61991572380066 sec\n",
      "\n",
      "Epoch 37 Batch 0 Loss 0.00720\n",
      "Epoch 37 Loss 0.00677\n",
      "Time taken for 1 epoch 26.725011110305786 sec\n",
      "\n",
      "Epoch 38 Batch 0 Loss 0.00185\n",
      "Epoch 38 Loss 0.00672\n",
      "Time taken for 1 epoch 27.516658306121826 sec\n",
      "\n",
      "Epoch 39 Batch 0 Loss 0.00148\n",
      "Epoch 39 Loss 0.00623\n",
      "Time taken for 1 epoch 26.824033498764038 sec\n",
      "\n",
      "Epoch 40 Batch 0 Loss 0.01066\n",
      "Epoch 40 Loss 0.00577\n",
      "Time taken for 1 epoch 27.572882652282715 sec\n",
      "\n",
      "Epoch 41 Batch 0 Loss 0.00102\n",
      "Epoch 41 Loss 0.00574\n",
      "Time taken for 1 epoch 26.967655897140503 sec\n",
      "\n",
      "Epoch 42 Batch 0 Loss 0.00096\n",
      "Epoch 42 Loss 0.00537\n",
      "Time taken for 1 epoch 27.582526922225952 sec\n",
      "\n",
      "Epoch 43 Batch 0 Loss 0.00095\n",
      "Epoch 43 Loss 0.00514\n",
      "Time taken for 1 epoch 26.75300693511963 sec\n",
      "\n",
      "Epoch 44 Batch 0 Loss 0.00539\n",
      "Epoch 44 Loss 0.00537\n",
      "Time taken for 1 epoch 27.362946271896362 sec\n",
      "\n",
      "Epoch 45 Batch 0 Loss 0.00081\n",
      "Epoch 45 Loss 0.00472\n",
      "Time taken for 1 epoch 26.718064069747925 sec\n",
      "\n",
      "Epoch 46 Batch 0 Loss 0.00055\n",
      "Epoch 46 Loss 0.00462\n",
      "Time taken for 1 epoch 27.337865591049194 sec\n",
      "\n",
      "Epoch 47 Batch 0 Loss 0.00059\n",
      "Epoch 47 Loss 0.00460\n",
      "Time taken for 1 epoch 26.685075759887695 sec\n",
      "\n",
      "Epoch 48 Batch 0 Loss 0.00360\n",
      "Epoch 48 Loss 0.00470\n",
      "Time taken for 1 epoch 27.381136178970337 sec\n",
      "\n",
      "Epoch 49 Batch 0 Loss 0.01176\n",
      "Epoch 49 Loss 0.00425\n",
      "Time taken for 1 epoch 26.78465700149536 sec\n",
      "\n",
      "Epoch 50 Batch 0 Loss 0.00050\n",
      "Epoch 50 Loss 0.00489\n",
      "Time taken for 1 epoch 27.447792053222656 sec\n",
      "\n",
      "Epoch 51 Batch 0 Loss 0.00156\n",
      "Epoch 51 Loss 0.00443\n",
      "Time taken for 1 epoch 26.785068035125732 sec\n",
      "\n",
      "Epoch 52 Batch 0 Loss 0.00300\n",
      "Epoch 52 Loss 0.00461\n",
      "Time taken for 1 epoch 27.430176258087158 sec\n",
      "\n",
      "Epoch 53 Batch 0 Loss 0.00051\n",
      "Epoch 53 Loss 0.00504\n",
      "Time taken for 1 epoch 26.63725757598877 sec\n",
      "\n",
      "Epoch 54 Batch 0 Loss 0.00066\n",
      "Epoch 54 Loss 0.00430\n",
      "Time taken for 1 epoch 27.365676879882812 sec\n",
      "\n",
      "Epoch 55 Batch 0 Loss 0.01083\n",
      "Epoch 55 Loss 0.00574\n",
      "Time taken for 1 epoch 26.789379835128784 sec\n",
      "\n",
      "Epoch 56 Batch 0 Loss 0.00048\n",
      "Epoch 56 Loss 0.00488\n",
      "Time taken for 1 epoch 27.47014808654785 sec\n",
      "\n",
      "Epoch 57 Batch 0 Loss 0.00043\n",
      "Epoch 57 Loss 0.00500\n",
      "Time taken for 1 epoch 26.784809112548828 sec\n",
      "\n",
      "Epoch 58 Batch 0 Loss 0.01612\n",
      "Epoch 58 Loss 0.00551\n",
      "Time taken for 1 epoch 27.491942882537842 sec\n",
      "\n",
      "Epoch 59 Batch 0 Loss 0.00056\n",
      "Epoch 59 Loss 0.01058\n",
      "Time taken for 1 epoch 26.713746309280396 sec\n",
      "\n",
      "Epoch 60 Batch 0 Loss 0.01777\n",
      "Epoch 60 Loss 0.02149\n",
      "Time taken for 1 epoch 27.36393141746521 sec\n",
      "\n",
      "Epoch 61 Batch 0 Loss 0.03140\n",
      "Epoch 61 Loss 0.06805\n",
      "Time taken for 1 epoch 26.83792757987976 sec\n",
      "\n",
      "Epoch 62 Batch 0 Loss 0.16948\n",
      "Epoch 62 Loss 0.25862\n",
      "Time taken for 1 epoch 27.508968830108643 sec\n",
      "\n",
      "Epoch 63 Batch 0 Loss 0.22801\n",
      "Epoch 63 Loss 0.22486\n",
      "Time taken for 1 epoch 26.7449893951416 sec\n",
      "\n",
      "Epoch 64 Batch 0 Loss 0.23251\n",
      "Epoch 64 Loss 0.13524\n",
      "Time taken for 1 epoch 27.35128092765808 sec\n",
      "\n",
      "Epoch 65 Batch 0 Loss 0.10981\n",
      "Epoch 65 Loss 0.07339\n",
      "Time taken for 1 epoch 26.958216667175293 sec\n",
      "\n",
      "Epoch 66 Batch 0 Loss 0.02545\n",
      "Epoch 66 Loss 0.05041\n",
      "Time taken for 1 epoch 27.562364101409912 sec\n",
      "\n",
      "Epoch 67 Batch 0 Loss 0.08774\n",
      "Epoch 67 Loss 0.04870\n",
      "Time taken for 1 epoch 27.330695390701294 sec\n",
      "\n",
      "Epoch 68 Batch 0 Loss 0.06492\n",
      "Epoch 68 Loss 0.03697\n",
      "Time taken for 1 epoch 27.81229543685913 sec\n",
      "\n",
      "Epoch 69 Batch 0 Loss 0.03051\n",
      "Epoch 69 Loss 0.02023\n",
      "Time taken for 1 epoch 26.85460591316223 sec\n",
      "\n",
      "Epoch 70 Batch 0 Loss 0.00498\n",
      "Epoch 70 Loss 0.01205\n",
      "Time taken for 1 epoch 27.438880920410156 sec\n",
      "\n",
      "Epoch 71 Batch 0 Loss 0.00946\n",
      "Epoch 71 Loss 0.00966\n",
      "Time taken for 1 epoch 26.8946635723114 sec\n",
      "\n",
      "Epoch 72 Batch 0 Loss 0.00202\n",
      "Epoch 72 Loss 0.00710\n",
      "Time taken for 1 epoch 27.477869749069214 sec\n",
      "\n",
      "Epoch 73 Batch 0 Loss 0.00537\n",
      "Epoch 73 Loss 0.00603\n",
      "Time taken for 1 epoch 26.867274045944214 sec\n",
      "\n",
      "Epoch 74 Batch 0 Loss 0.00113\n",
      "Epoch 74 Loss 0.00528\n",
      "Time taken for 1 epoch 27.482739210128784 sec\n",
      "\n",
      "Epoch 75 Batch 0 Loss 0.00643\n",
      "Epoch 75 Loss 0.00499\n",
      "Time taken for 1 epoch 26.958945274353027 sec\n",
      "\n",
      "Epoch 76 Batch 0 Loss 0.00208\n",
      "Epoch 76 Loss 0.00477\n",
      "Time taken for 1 epoch 27.487828254699707 sec\n",
      "\n",
      "Epoch 77 Batch 0 Loss 0.00055\n",
      "Epoch 77 Loss 0.00451\n",
      "Time taken for 1 epoch 26.853959798812866 sec\n",
      "\n",
      "Epoch 78 Batch 0 Loss 0.00052\n",
      "Epoch 78 Loss 0.00432\n",
      "Time taken for 1 epoch 27.457375049591064 sec\n",
      "\n",
      "Epoch 79 Batch 0 Loss 0.00038\n",
      "Epoch 79 Loss 0.00409\n",
      "Time taken for 1 epoch 26.856733798980713 sec\n",
      "\n",
      "Epoch 80 Batch 0 Loss 0.00295\n",
      "Epoch 80 Loss 0.00342\n",
      "Time taken for 1 epoch 27.39277410507202 sec\n",
      "\n",
      "Epoch 81 Batch 0 Loss 0.00771\n",
      "Epoch 81 Loss 0.00408\n",
      "Time taken for 1 epoch 26.884577989578247 sec\n",
      "\n",
      "Epoch 82 Batch 0 Loss 0.00035\n",
      "Epoch 82 Loss 0.00433\n",
      "Time taken for 1 epoch 27.50417137145996 sec\n",
      "\n",
      "Epoch 83 Batch 0 Loss 0.00035\n",
      "Epoch 83 Loss 0.00359\n",
      "Time taken for 1 epoch 26.80278182029724 sec\n",
      "\n",
      "Epoch 84 Batch 0 Loss 0.00032\n"
     ]
    },
    {
     "name": "stdout",
     "output_type": "stream",
     "text": [
      "Epoch 84 Loss 0.00411\n",
      "Time taken for 1 epoch 27.482213973999023 sec\n",
      "\n",
      "Epoch 85 Batch 0 Loss 0.00204\n",
      "Epoch 85 Loss 0.00364\n",
      "Time taken for 1 epoch 26.83824324607849 sec\n",
      "\n",
      "Epoch 86 Batch 0 Loss 0.00031\n",
      "Epoch 86 Loss 0.00411\n",
      "Time taken for 1 epoch 27.41282844543457 sec\n",
      "\n",
      "Epoch 87 Batch 0 Loss 0.00172\n",
      "Epoch 87 Loss 0.00326\n",
      "Time taken for 1 epoch 26.83372664451599 sec\n",
      "\n",
      "Epoch 88 Batch 0 Loss 0.00089\n",
      "Epoch 88 Loss 0.00380\n",
      "Time taken for 1 epoch 27.46448278427124 sec\n",
      "\n",
      "Epoch 89 Batch 0 Loss 0.00709\n",
      "Epoch 89 Loss 0.00408\n",
      "Time taken for 1 epoch 26.821568965911865 sec\n",
      "\n",
      "Epoch 90 Batch 0 Loss 0.00317\n",
      "Epoch 90 Loss 0.00324\n",
      "Time taken for 1 epoch 27.491870641708374 sec\n",
      "\n",
      "Epoch 91 Batch 0 Loss 0.00056\n",
      "Epoch 91 Loss 0.00324\n",
      "Time taken for 1 epoch 26.80821204185486 sec\n",
      "\n",
      "Epoch 92 Batch 0 Loss 0.00443\n",
      "Epoch 92 Loss 0.00347\n",
      "Time taken for 1 epoch 27.44362735748291 sec\n",
      "\n",
      "Epoch 93 Batch 0 Loss 0.00284\n",
      "Epoch 93 Loss 0.00363\n",
      "Time taken for 1 epoch 26.807637453079224 sec\n",
      "\n",
      "Epoch 94 Batch 0 Loss 0.00025\n",
      "Epoch 94 Loss 0.00367\n",
      "Time taken for 1 epoch 27.411214351654053 sec\n",
      "\n",
      "Epoch 95 Batch 0 Loss 0.00018\n",
      "Epoch 95 Loss 0.00343\n",
      "Time taken for 1 epoch 26.768269062042236 sec\n",
      "\n",
      "Epoch 96 Batch 0 Loss 0.00027\n",
      "Epoch 96 Loss 0.00331\n",
      "Time taken for 1 epoch 27.453538417816162 sec\n",
      "\n",
      "Epoch 97 Batch 0 Loss 0.00176\n",
      "Epoch 97 Loss 0.00342\n",
      "Time taken for 1 epoch 26.769453763961792 sec\n",
      "\n",
      "Epoch 98 Batch 0 Loss 0.00017\n",
      "Epoch 98 Loss 0.00364\n",
      "Time taken for 1 epoch 27.457783222198486 sec\n",
      "\n",
      "Epoch 99 Batch 0 Loss 0.00771\n",
      "Epoch 99 Loss 0.00325\n",
      "Time taken for 1 epoch 26.838677644729614 sec\n",
      "\n",
      "Epoch 100 Batch 0 Loss 0.00515\n",
      "Epoch 100 Loss 0.00319\n",
      "Time taken for 1 epoch 27.370635271072388 sec\n",
      "\n",
      "Epoch 101 Batch 0 Loss 0.00050\n",
      "Epoch 101 Loss 0.00321\n",
      "Time taken for 1 epoch 26.800525426864624 sec\n",
      "\n",
      "Epoch 102 Batch 0 Loss 0.00031\n",
      "Epoch 102 Loss 0.00342\n",
      "Time taken for 1 epoch 27.374245405197144 sec\n",
      "\n",
      "Epoch 103 Batch 0 Loss 0.00159\n",
      "Epoch 103 Loss 0.00313\n",
      "Time taken for 1 epoch 26.75132179260254 sec\n",
      "\n",
      "Epoch 104 Batch 0 Loss 0.00020\n",
      "Epoch 104 Loss 0.00323\n",
      "Time taken for 1 epoch 27.401610374450684 sec\n",
      "\n",
      "Epoch 105 Batch 0 Loss 0.00495\n",
      "Epoch 105 Loss 0.00340\n",
      "Time taken for 1 epoch 26.755677461624146 sec\n",
      "\n",
      "Epoch 106 Batch 0 Loss 0.00021\n",
      "Epoch 106 Loss 0.00297\n",
      "Time taken for 1 epoch 27.373979330062866 sec\n",
      "\n",
      "Epoch 107 Batch 0 Loss 0.00546\n",
      "Epoch 107 Loss 0.00346\n",
      "Time taken for 1 epoch 26.848606824874878 sec\n",
      "\n",
      "Epoch 108 Batch 0 Loss 0.00017\n",
      "Epoch 108 Loss 0.00331\n",
      "Time taken for 1 epoch 27.417166709899902 sec\n",
      "\n",
      "Epoch 109 Batch 0 Loss 0.00130\n",
      "Epoch 109 Loss 0.00292\n",
      "Time taken for 1 epoch 26.790424823760986 sec\n",
      "\n",
      "Epoch 110 Batch 0 Loss 0.00013\n",
      "Epoch 110 Loss 0.00316\n",
      "Time taken for 1 epoch 27.465779066085815 sec\n",
      "\n",
      "Epoch 111 Batch 0 Loss 0.00290\n",
      "Epoch 111 Loss 0.00291\n",
      "Time taken for 1 epoch 26.759227752685547 sec\n",
      "\n",
      "Epoch 112 Batch 0 Loss 0.00209\n",
      "Epoch 112 Loss 0.00301\n",
      "Time taken for 1 epoch 27.404945373535156 sec\n",
      "\n",
      "Epoch 113 Batch 0 Loss 0.00202\n",
      "Epoch 113 Loss 0.00290\n",
      "Time taken for 1 epoch 26.78518843650818 sec\n",
      "\n",
      "Epoch 114 Batch 0 Loss 0.00012\n",
      "Epoch 114 Loss 0.00325\n",
      "Time taken for 1 epoch 27.33522891998291 sec\n",
      "\n",
      "Epoch 115 Batch 0 Loss 0.00024\n",
      "Epoch 115 Loss 0.00317\n",
      "Time taken for 1 epoch 26.787410259246826 sec\n",
      "\n",
      "Epoch 116 Batch 0 Loss 0.00014\n",
      "Epoch 116 Loss 0.00289\n",
      "Time taken for 1 epoch 27.44715118408203 sec\n",
      "\n",
      "Epoch 117 Batch 0 Loss 0.00016\n",
      "Epoch 117 Loss 0.00303\n",
      "Time taken for 1 epoch 29.69058084487915 sec\n",
      "\n",
      "Epoch 118 Batch 0 Loss 0.00118\n",
      "Epoch 118 Loss 0.00273\n",
      "Time taken for 1 epoch 27.781147480010986 sec\n",
      "\n",
      "Epoch 119 Batch 0 Loss 0.00419\n",
      "Epoch 119 Loss 0.00326\n",
      "Time taken for 1 epoch 26.980071306228638 sec\n",
      "\n",
      "Epoch 120 Batch 0 Loss 0.00309\n",
      "Epoch 120 Loss 0.00291\n",
      "Time taken for 1 epoch 27.66797375679016 sec\n",
      "\n",
      "Epoch 121 Batch 0 Loss 0.00120\n",
      "Epoch 121 Loss 0.00288\n",
      "Time taken for 1 epoch 26.93005871772766 sec\n",
      "\n",
      "Epoch 122 Batch 0 Loss 0.00009\n",
      "Epoch 122 Loss 0.00303\n",
      "Time taken for 1 epoch 27.713992834091187 sec\n",
      "\n",
      "Epoch 123 Batch 0 Loss 0.00015\n",
      "Epoch 123 Loss 0.00298\n",
      "Time taken for 1 epoch 27.060086727142334 sec\n",
      "\n",
      "Epoch 124 Batch 0 Loss 0.00016\n",
      "Epoch 124 Loss 0.00268\n",
      "Time taken for 1 epoch 27.75991463661194 sec\n",
      "\n",
      "Epoch 125 Batch 0 Loss 0.00024\n",
      "Epoch 125 Loss 0.00293\n",
      "Time taken for 1 epoch 27.0240797996521 sec\n",
      "\n",
      "Epoch 126 Batch 0 Loss 0.00019\n",
      "Epoch 126 Loss 0.00306\n",
      "Time taken for 1 epoch 27.750376224517822 sec\n",
      "\n",
      "Epoch 127 Batch 0 Loss 0.00010\n",
      "Epoch 127 Loss 0.00321\n",
      "Time taken for 1 epoch 27.002068519592285 sec\n",
      "\n",
      "Epoch 128 Batch 0 Loss 0.00009\n",
      "Epoch 128 Loss 0.00268\n",
      "Time taken for 1 epoch 27.649901866912842 sec\n",
      "\n",
      "Epoch 129 Batch 0 Loss 0.00149\n",
      "Epoch 129 Loss 0.00299\n",
      "Time taken for 1 epoch 26.964064836502075 sec\n",
      "\n",
      "Epoch 130 Batch 0 Loss 0.00015\n",
      "Epoch 130 Loss 0.00291\n",
      "Time taken for 1 epoch 27.65039086341858 sec\n",
      "\n",
      "Epoch 131 Batch 0 Loss 0.00064\n",
      "Epoch 131 Loss 0.00256\n",
      "Time taken for 1 epoch 27.0200777053833 sec\n",
      "\n",
      "Epoch 132 Batch 0 Loss 0.00011\n",
      "Epoch 132 Loss 0.00283\n",
      "Time taken for 1 epoch 27.59044313430786 sec\n",
      "\n",
      "Epoch 133 Batch 0 Loss 0.00012\n",
      "Epoch 133 Loss 0.00500\n",
      "Time taken for 1 epoch 27.046085119247437 sec\n",
      "\n",
      "Epoch 134 Batch 0 Loss 0.01987\n",
      "Epoch 134 Loss 0.14939\n",
      "Time taken for 1 epoch 27.658897876739502 sec\n",
      "\n",
      "Epoch 135 Batch 0 Loss 0.50194\n",
      "Epoch 135 Loss 0.57987\n",
      "Time taken for 1 epoch 27.0330810546875 sec\n",
      "\n",
      "Epoch 136 Batch 0 Loss 0.54761\n",
      "Epoch 136 Loss 0.30631\n",
      "Time taken for 1 epoch 27.73676633834839 sec\n",
      "\n",
      "Epoch 137 Batch 0 Loss 0.15675\n",
      "Epoch 137 Loss 0.15592\n",
      "Time taken for 1 epoch 27.02391743659973 sec\n",
      "\n",
      "Epoch 138 Batch 0 Loss 0.09325\n",
      "Epoch 138 Loss 0.08500\n",
      "Time taken for 1 epoch 27.646575450897217 sec\n",
      "\n",
      "Epoch 139 Batch 0 Loss 0.06878\n",
      "Epoch 139 Loss 0.05941\n",
      "Time taken for 1 epoch 26.981070280075073 sec\n",
      "\n",
      "Epoch 140 Batch 0 Loss 0.12906\n",
      "Epoch 140 Loss 0.03887\n",
      "Time taken for 1 epoch 27.652514457702637 sec\n",
      "\n",
      "Epoch 141 Batch 0 Loss 0.00943\n",
      "Epoch 141 Loss 0.02452\n",
      "Time taken for 1 epoch 26.973068237304688 sec\n",
      "\n",
      "Epoch 142 Batch 0 Loss 0.01267\n",
      "Epoch 142 Loss 0.02649\n",
      "Time taken for 1 epoch 27.676950454711914 sec\n",
      "\n",
      "Epoch 143 Batch 0 Loss 0.01200\n",
      "Epoch 143 Loss 0.02027\n",
      "Time taken for 1 epoch 27.099095821380615 sec\n",
      "\n",
      "Epoch 144 Batch 0 Loss 0.00887\n",
      "Epoch 144 Loss 0.01381\n",
      "Time taken for 1 epoch 27.662128686904907 sec\n",
      "\n",
      "Epoch 145 Batch 0 Loss 0.01043\n",
      "Epoch 145 Loss 0.01378\n",
      "Time taken for 1 epoch 27.01007604598999 sec\n",
      "\n",
      "Epoch 146 Batch 0 Loss 0.00382\n",
      "Epoch 146 Loss 0.01160\n",
      "Time taken for 1 epoch 27.574177265167236 sec\n",
      "\n",
      "Epoch 147 Batch 0 Loss 0.00820\n",
      "Epoch 147 Loss 0.01299\n",
      "Time taken for 1 epoch 26.989071130752563 sec\n",
      "\n",
      "Epoch 148 Batch 0 Loss 0.01182\n",
      "Epoch 148 Loss 0.00762\n",
      "Time taken for 1 epoch 27.575681447982788 sec\n",
      "\n",
      "Epoch 149 Batch 0 Loss 0.00113\n",
      "Epoch 149 Loss 0.00678\n",
      "Time taken for 1 epoch 26.942060470581055 sec\n",
      "\n",
      "Epoch 150 Batch 0 Loss 0.00102\n",
      "Epoch 150 Loss 0.00707\n",
      "Time taken for 1 epoch 27.714317083358765 sec\n",
      "\n",
      "Epoch 151 Batch 0 Loss 0.00221\n",
      "Epoch 151 Loss 0.00641\n",
      "Time taken for 1 epoch 26.868530750274658 sec\n",
      "\n",
      "Epoch 152 Batch 0 Loss 0.00113\n",
      "Epoch 152 Loss 0.00516\n",
      "Time taken for 1 epoch 27.45515012741089 sec\n",
      "\n",
      "Epoch 153 Batch 0 Loss 0.00604\n",
      "Epoch 153 Loss 0.00506\n",
      "Time taken for 1 epoch 26.818032264709473 sec\n",
      "\n",
      "Epoch 154 Batch 0 Loss 0.01595\n",
      "Epoch 154 Loss 0.00551\n",
      "Time taken for 1 epoch 27.47268319129944 sec\n",
      "\n",
      "Epoch 155 Batch 0 Loss 0.00794\n",
      "Epoch 155 Loss 0.00540\n",
      "Time taken for 1 epoch 26.861236333847046 sec\n",
      "\n",
      "Epoch 156 Batch 0 Loss 0.00071\n",
      "Epoch 156 Loss 0.00674\n",
      "Time taken for 1 epoch 27.341737747192383 sec\n",
      "\n",
      "Epoch 157 Batch 0 Loss 0.00153\n",
      "Epoch 157 Loss 0.00500\n",
      "Time taken for 1 epoch 26.854233980178833 sec\n",
      "\n",
      "Epoch 158 Batch 0 Loss 0.00426\n",
      "Epoch 158 Loss 0.00418\n",
      "Time taken for 1 epoch 27.43666934967041 sec\n",
      "\n",
      "Epoch 159 Batch 0 Loss 0.00717\n",
      "Epoch 159 Loss 0.00358\n",
      "Time taken for 1 epoch 26.8310546875 sec\n",
      "\n",
      "Epoch 160 Batch 0 Loss 0.00135\n",
      "Epoch 160 Loss 0.00373\n",
      "Time taken for 1 epoch 27.426885843276978 sec\n",
      "\n",
      "Epoch 161 Batch 0 Loss 0.00353\n",
      "Epoch 161 Loss 0.00356\n",
      "Time taken for 1 epoch 26.83268165588379 sec\n",
      "\n",
      "Epoch 162 Batch 0 Loss 0.00029\n",
      "Epoch 162 Loss 0.00405\n",
      "Time taken for 1 epoch 27.450546979904175 sec\n",
      "\n",
      "Epoch 163 Batch 0 Loss 0.00039\n",
      "Epoch 163 Loss 0.00360\n",
      "Time taken for 1 epoch 26.836652517318726 sec\n",
      "\n",
      "Epoch 164 Batch 0 Loss 0.00045\n",
      "Epoch 164 Loss 0.00358\n",
      "Time taken for 1 epoch 27.442273139953613 sec\n",
      "\n",
      "Epoch 165 Batch 0 Loss 0.00392\n",
      "Epoch 165 Loss 0.00365\n",
      "Time taken for 1 epoch 26.87451195716858 sec\n",
      "\n",
      "Epoch 166 Batch 0 Loss 0.00024\n"
     ]
    },
    {
     "name": "stdout",
     "output_type": "stream",
     "text": [
      "Epoch 166 Loss 0.00370\n",
      "Time taken for 1 epoch 27.413549184799194 sec\n",
      "\n",
      "Epoch 167 Batch 0 Loss 0.00235\n",
      "Epoch 167 Loss 0.00358\n",
      "Time taken for 1 epoch 26.853795051574707 sec\n",
      "\n",
      "Epoch 168 Batch 0 Loss 0.00337\n",
      "Epoch 168 Loss 0.00376\n",
      "Time taken for 1 epoch 27.442888498306274 sec\n",
      "\n",
      "Epoch 169 Batch 0 Loss 0.00020\n",
      "Epoch 169 Loss 0.00370\n",
      "Time taken for 1 epoch 26.734866857528687 sec\n",
      "\n",
      "Epoch 170 Batch 0 Loss 0.00021\n",
      "Epoch 170 Loss 0.00337\n",
      "Time taken for 1 epoch 27.437012434005737 sec\n",
      "\n",
      "Epoch 171 Batch 0 Loss 0.01125\n",
      "Epoch 171 Loss 0.00334\n",
      "Time taken for 1 epoch 26.784659385681152 sec\n",
      "\n",
      "Epoch 172 Batch 0 Loss 0.00188\n",
      "Epoch 172 Loss 0.00314\n",
      "Time taken for 1 epoch 27.42556405067444 sec\n",
      "\n",
      "Epoch 173 Batch 0 Loss 0.00419\n",
      "Epoch 173 Loss 0.00340\n",
      "Time taken for 1 epoch 26.866279125213623 sec\n",
      "\n",
      "Epoch 174 Batch 0 Loss 0.00123\n",
      "Epoch 174 Loss 0.00347\n",
      "Time taken for 1 epoch 27.424052953720093 sec\n",
      "\n",
      "Epoch 175 Batch 0 Loss 0.00335\n",
      "Epoch 175 Loss 0.00354\n",
      "Time taken for 1 epoch 26.822721481323242 sec\n",
      "\n",
      "Epoch 176 Batch 0 Loss 0.00025\n",
      "Epoch 176 Loss 0.00355\n",
      "Time taken for 1 epoch 27.424601793289185 sec\n",
      "\n",
      "Epoch 177 Batch 0 Loss 0.00016\n",
      "Epoch 177 Loss 0.00349\n",
      "Time taken for 1 epoch 26.840627193450928 sec\n",
      "\n",
      "Epoch 178 Batch 0 Loss 0.00020\n",
      "Epoch 178 Loss 0.00320\n",
      "Time taken for 1 epoch 27.414811849594116 sec\n",
      "\n",
      "Epoch 179 Batch 0 Loss 0.00024\n",
      "Epoch 179 Loss 0.00339\n",
      "Time taken for 1 epoch 26.854793310165405 sec\n",
      "\n",
      "Epoch 180 Batch 0 Loss 0.00017\n",
      "Epoch 180 Loss 0.00338\n",
      "Time taken for 1 epoch 27.388121366500854 sec\n",
      "\n",
      "Epoch 181 Batch 0 Loss 0.00026\n",
      "Epoch 181 Loss 0.00307\n",
      "Time taken for 1 epoch 26.799522399902344 sec\n",
      "\n",
      "Epoch 182 Batch 0 Loss 0.00844\n",
      "Epoch 182 Loss 0.00325\n",
      "Time taken for 1 epoch 27.417787551879883 sec\n",
      "\n",
      "Epoch 183 Batch 0 Loss 0.00394\n",
      "Epoch 183 Loss 0.00287\n",
      "Time taken for 1 epoch 26.838464736938477 sec\n",
      "\n",
      "Epoch 184 Batch 0 Loss 0.00504\n",
      "Epoch 184 Loss 0.00386\n",
      "Time taken for 1 epoch 27.512959003448486 sec\n",
      "\n",
      "Epoch 185 Batch 0 Loss 0.01004\n",
      "Epoch 185 Loss 0.00382\n",
      "Time taken for 1 epoch 26.817122220993042 sec\n",
      "\n",
      "Epoch 186 Batch 0 Loss 0.00239\n",
      "Epoch 186 Loss 0.00300\n",
      "Time taken for 1 epoch 27.408060312271118 sec\n",
      "\n",
      "Epoch 187 Batch 0 Loss 0.00303\n",
      "Epoch 187 Loss 0.00293\n",
      "Time taken for 1 epoch 26.817055463790894 sec\n",
      "\n",
      "Epoch 188 Batch 0 Loss 0.00018\n",
      "Epoch 188 Loss 0.00307\n",
      "Time taken for 1 epoch 27.392789363861084 sec\n",
      "\n",
      "Epoch 189 Batch 0 Loss 0.00015\n",
      "Epoch 189 Loss 0.00304\n",
      "Time taken for 1 epoch 26.80930781364441 sec\n",
      "\n",
      "Epoch 190 Batch 0 Loss 0.00419\n",
      "Epoch 190 Loss 0.00315\n",
      "Time taken for 1 epoch 27.52107000350952 sec\n",
      "\n",
      "Epoch 191 Batch 0 Loss 0.00012\n",
      "Epoch 191 Loss 0.00284\n",
      "Time taken for 1 epoch 26.82890272140503 sec\n",
      "\n",
      "Epoch 192 Batch 0 Loss 0.00027\n",
      "Epoch 192 Loss 0.00320\n",
      "Time taken for 1 epoch 27.461640119552612 sec\n",
      "\n",
      "Epoch 193 Batch 0 Loss 0.00214\n",
      "Epoch 193 Loss 0.00247\n",
      "Time taken for 1 epoch 26.842650651931763 sec\n",
      "\n",
      "Epoch 194 Batch 0 Loss 0.00265\n",
      "Epoch 194 Loss 0.00325\n",
      "Time taken for 1 epoch 27.41590118408203 sec\n",
      "\n",
      "Epoch 195 Batch 0 Loss 0.00018\n",
      "Epoch 195 Loss 0.00283\n",
      "Time taken for 1 epoch 26.884325742721558 sec\n",
      "\n",
      "Epoch 196 Batch 0 Loss 0.00207\n",
      "Epoch 196 Loss 0.00319\n",
      "Time taken for 1 epoch 27.455808401107788 sec\n",
      "\n",
      "Epoch 197 Batch 0 Loss 0.00013\n",
      "Epoch 197 Loss 0.00296\n",
      "Time taken for 1 epoch 26.887449979782104 sec\n",
      "\n",
      "Epoch 198 Batch 0 Loss 0.00014\n",
      "Epoch 198 Loss 0.00311\n",
      "Time taken for 1 epoch 27.485490322113037 sec\n",
      "\n",
      "Epoch 199 Batch 0 Loss 0.00009\n",
      "Epoch 199 Loss 0.00276\n",
      "Time taken for 1 epoch 26.867588758468628 sec\n",
      "\n",
      "Epoch 200 Batch 0 Loss 0.00013\n",
      "Epoch 200 Loss 0.00307\n",
      "Time taken for 1 epoch 29.420763731002808 sec\n",
      "\n",
      "Epoch 201 Batch 0 Loss 0.00127\n",
      "Epoch 201 Loss 0.00299\n",
      "Time taken for 1 epoch 26.846216201782227 sec\n",
      "\n",
      "Epoch 202 Batch 0 Loss 0.00369\n",
      "Epoch 202 Loss 0.00265\n",
      "Time taken for 1 epoch 27.470271110534668 sec\n",
      "\n",
      "Epoch 203 Batch 0 Loss 0.00170\n",
      "Epoch 203 Loss 0.00325\n",
      "Time taken for 1 epoch 26.824541091918945 sec\n",
      "\n",
      "Epoch 204 Batch 0 Loss 0.00229\n",
      "Epoch 204 Loss 0.00296\n",
      "Time taken for 1 epoch 27.45810556411743 sec\n",
      "\n",
      "Epoch 205 Batch 0 Loss 0.00557\n",
      "Epoch 205 Loss 0.00291\n",
      "Time taken for 1 epoch 26.834490060806274 sec\n",
      "\n",
      "Epoch 206 Batch 0 Loss 0.00015\n",
      "Epoch 206 Loss 0.00289\n",
      "Time taken for 1 epoch 27.482009649276733 sec\n",
      "\n",
      "Epoch 207 Batch 0 Loss 0.00015\n",
      "Epoch 207 Loss 0.00264\n",
      "Time taken for 1 epoch 26.84053897857666 sec\n",
      "\n",
      "Epoch 208 Batch 0 Loss 0.00303\n",
      "Epoch 208 Loss 0.00287\n",
      "Time taken for 1 epoch 27.4802188873291 sec\n",
      "\n",
      "Epoch 209 Batch 0 Loss 0.00042\n",
      "Epoch 209 Loss 0.00275\n",
      "Time taken for 1 epoch 26.822810888290405 sec\n",
      "\n",
      "Epoch 210 Batch 0 Loss 0.00012\n",
      "Epoch 210 Loss 0.00318\n",
      "Time taken for 1 epoch 27.48090672492981 sec\n",
      "\n",
      "Epoch 211 Batch 0 Loss 0.00311\n",
      "Epoch 211 Loss 0.00310\n",
      "Time taken for 1 epoch 26.815675973892212 sec\n",
      "\n",
      "Epoch 212 Batch 0 Loss 0.00943\n",
      "Epoch 212 Loss 0.00270\n",
      "Time taken for 1 epoch 27.43871831893921 sec\n",
      "\n",
      "Epoch 213 Batch 0 Loss 0.00010\n",
      "Epoch 213 Loss 0.00268\n",
      "Time taken for 1 epoch 26.853681325912476 sec\n",
      "\n",
      "Epoch 214 Batch 0 Loss 0.00596\n",
      "Epoch 214 Loss 0.00284\n",
      "Time taken for 1 epoch 27.47294306755066 sec\n",
      "\n",
      "Epoch 215 Batch 0 Loss 0.00421\n",
      "Epoch 215 Loss 0.00306\n",
      "Time taken for 1 epoch 26.80359172821045 sec\n",
      "\n",
      "Epoch 216 Batch 0 Loss 0.00167\n",
      "Epoch 216 Loss 0.00270\n",
      "Time taken for 1 epoch 27.471490621566772 sec\n",
      "\n",
      "Epoch 217 Batch 0 Loss 0.00010\n",
      "Epoch 217 Loss 0.00250\n",
      "Time taken for 1 epoch 26.862842798233032 sec\n",
      "\n",
      "Epoch 218 Batch 0 Loss 0.00673\n",
      "Epoch 218 Loss 0.00273\n",
      "Time taken for 1 epoch 27.436988592147827 sec\n",
      "\n",
      "Epoch 219 Batch 0 Loss 0.00011\n",
      "Epoch 219 Loss 0.00308\n",
      "Time taken for 1 epoch 26.825040578842163 sec\n",
      "\n",
      "Epoch 220 Batch 0 Loss 0.00351\n",
      "Epoch 220 Loss 0.00266\n",
      "Time taken for 1 epoch 27.408649921417236 sec\n",
      "\n",
      "Epoch 221 Batch 0 Loss 0.00008\n",
      "Epoch 221 Loss 0.00296\n",
      "Time taken for 1 epoch 26.839102745056152 sec\n",
      "\n",
      "Epoch 222 Batch 0 Loss 0.00579\n",
      "Epoch 222 Loss 0.00262\n",
      "Time taken for 1 epoch 27.399442434310913 sec\n",
      "\n",
      "Epoch 223 Batch 0 Loss 0.00500\n",
      "Epoch 223 Loss 0.00293\n",
      "Time taken for 1 epoch 26.78634524345398 sec\n",
      "\n",
      "Epoch 224 Batch 0 Loss 0.00437\n",
      "Epoch 224 Loss 0.00283\n",
      "Time taken for 1 epoch 27.447522163391113 sec\n",
      "\n",
      "Epoch 225 Batch 0 Loss 0.00646\n",
      "Epoch 225 Loss 0.00250\n",
      "Time taken for 1 epoch 26.822417974472046 sec\n",
      "\n",
      "Epoch 226 Batch 0 Loss 0.01082\n",
      "Epoch 226 Loss 0.00270\n",
      "Time taken for 1 epoch 27.472968816757202 sec\n",
      "\n",
      "Epoch 227 Batch 0 Loss 0.00004\n",
      "Epoch 227 Loss 0.00289\n",
      "Time taken for 1 epoch 26.737133026123047 sec\n",
      "\n",
      "Epoch 228 Batch 0 Loss 0.00010\n",
      "Epoch 228 Loss 0.00286\n",
      "Time taken for 1 epoch 27.43219494819641 sec\n",
      "\n",
      "Epoch 229 Batch 0 Loss 0.00207\n",
      "Epoch 229 Loss 0.00274\n",
      "Time taken for 1 epoch 26.798815488815308 sec\n",
      "\n",
      "Epoch 230 Batch 0 Loss 0.00007\n",
      "Epoch 230 Loss 0.00258\n",
      "Time taken for 1 epoch 29.395207166671753 sec\n",
      "\n",
      "Epoch 231 Batch 0 Loss 0.00523\n",
      "Epoch 231 Loss 0.00264\n",
      "Time taken for 1 epoch 26.838520050048828 sec\n",
      "\n",
      "Epoch 232 Batch 0 Loss 0.00094\n",
      "Epoch 232 Loss 0.00276\n",
      "Time taken for 1 epoch 27.490604162216187 sec\n",
      "\n",
      "Epoch 233 Batch 0 Loss 0.00015\n",
      "Epoch 233 Loss 0.00291\n",
      "Time taken for 1 epoch 26.854153156280518 sec\n",
      "\n",
      "Epoch 234 Batch 0 Loss 0.00007\n",
      "Epoch 234 Loss 0.00313\n",
      "Time taken for 1 epoch 27.41866135597229 sec\n",
      "\n",
      "Epoch 235 Batch 0 Loss 0.00769\n",
      "Epoch 235 Loss 0.10070\n",
      "Time taken for 1 epoch 26.836013555526733 sec\n",
      "\n",
      "Epoch 236 Batch 0 Loss 0.37921\n",
      "Epoch 236 Loss 0.44724\n",
      "Time taken for 1 epoch 27.48782706260681 sec\n",
      "\n",
      "Epoch 237 Batch 0 Loss 0.29126\n",
      "Epoch 237 Loss 0.44072\n",
      "Time taken for 1 epoch 26.831777811050415 sec\n",
      "\n",
      "Epoch 238 Batch 0 Loss 0.53926\n",
      "Epoch 238 Loss 0.39723\n",
      "Time taken for 1 epoch 27.431620597839355 sec\n",
      "\n",
      "Epoch 239 Batch 0 Loss 0.26455\n",
      "Epoch 239 Loss 0.21409\n",
      "Time taken for 1 epoch 26.88685894012451 sec\n",
      "\n",
      "Epoch 240 Batch 0 Loss 0.14876\n",
      "Epoch 240 Loss 0.10832\n",
      "Time taken for 1 epoch 27.48411989212036 sec\n",
      "\n",
      "Epoch 241 Batch 0 Loss 0.03683\n",
      "Epoch 241 Loss 0.05372\n",
      "Time taken for 1 epoch 26.822062253952026 sec\n",
      "\n",
      "Epoch 242 Batch 0 Loss 0.01919\n",
      "Epoch 242 Loss 0.03417\n",
      "Time taken for 1 epoch 27.49323606491089 sec\n",
      "\n",
      "Epoch 243 Batch 0 Loss 0.01035\n",
      "Epoch 243 Loss 0.02009\n",
      "Time taken for 1 epoch 26.789766550064087 sec\n",
      "\n",
      "Epoch 244 Batch 0 Loss 0.01003\n",
      "Epoch 244 Loss 0.01284\n",
      "Time taken for 1 epoch 27.4311740398407 sec\n",
      "\n",
      "Epoch 245 Batch 0 Loss 0.00630\n",
      "Epoch 245 Loss 0.01235\n",
      "Time taken for 1 epoch 26.8558132648468 sec\n",
      "\n",
      "Epoch 246 Batch 0 Loss 0.01375\n",
      "Epoch 246 Loss 0.01080\n",
      "Time taken for 1 epoch 27.42385172843933 sec\n",
      "\n",
      "Epoch 247 Batch 0 Loss 0.00594\n",
      "Epoch 247 Loss 0.00822\n",
      "Time taken for 1 epoch 26.870977640151978 sec\n",
      "\n"
     ]
    },
    {
     "name": "stdout",
     "output_type": "stream",
     "text": [
      "Epoch 248 Batch 0 Loss 0.00607\n",
      "Epoch 248 Loss 0.00779\n",
      "Time taken for 1 epoch 27.45802593231201 sec\n",
      "\n",
      "Epoch 249 Batch 0 Loss 0.01069\n",
      "Epoch 249 Loss 0.00660\n",
      "Time taken for 1 epoch 26.8322856426239 sec\n",
      "\n",
      "Epoch 250 Batch 0 Loss 0.00103\n",
      "Epoch 250 Loss 0.00467\n",
      "Time taken for 1 epoch 27.49780249595642 sec\n",
      "\n",
      "Epoch 251 Batch 0 Loss 0.00079\n",
      "Epoch 251 Loss 0.00540\n",
      "Time taken for 1 epoch 26.843482732772827 sec\n",
      "\n",
      "Epoch 252 Batch 0 Loss 0.00419\n",
      "Epoch 252 Loss 0.00497\n",
      "Time taken for 1 epoch 27.621870040893555 sec\n",
      "\n",
      "Epoch 253 Batch 0 Loss 0.00316\n",
      "Epoch 253 Loss 0.00494\n",
      "Time taken for 1 epoch 26.859915256500244 sec\n",
      "\n",
      "Epoch 254 Batch 0 Loss 0.00260\n",
      "Epoch 254 Loss 0.00496\n",
      "Time taken for 1 epoch 27.435626983642578 sec\n",
      "\n",
      "Epoch 255 Batch 0 Loss 0.00628\n",
      "Epoch 255 Loss 0.00445\n",
      "Time taken for 1 epoch 26.886560201644897 sec\n",
      "\n",
      "Epoch 256 Batch 0 Loss 0.00103\n",
      "Epoch 256 Loss 0.00417\n",
      "Time taken for 1 epoch 27.534595012664795 sec\n",
      "\n",
      "Epoch 257 Batch 0 Loss 0.00032\n",
      "Epoch 257 Loss 0.00448\n",
      "Time taken for 1 epoch 26.835891008377075 sec\n",
      "\n",
      "Epoch 258 Batch 0 Loss 0.00421\n",
      "Epoch 258 Loss 0.00424\n",
      "Time taken for 1 epoch 27.477970600128174 sec\n",
      "\n",
      "Epoch 259 Batch 0 Loss 0.00255\n",
      "Epoch 259 Loss 0.00421\n",
      "Time taken for 1 epoch 26.96964955329895 sec\n",
      "\n",
      "Epoch 260 Batch 0 Loss 0.00049\n",
      "Epoch 260 Loss 0.00467\n",
      "Time taken for 1 epoch 27.51302695274353 sec\n",
      "\n",
      "Epoch 261 Batch 0 Loss 0.00237\n",
      "Epoch 261 Loss 0.00349\n",
      "Time taken for 1 epoch 26.870999097824097 sec\n",
      "\n",
      "Epoch 262 Batch 0 Loss 0.00032\n",
      "Epoch 262 Loss 0.00416\n",
      "Time taken for 1 epoch 27.429437160491943 sec\n",
      "\n",
      "Epoch 263 Batch 0 Loss 0.00282\n",
      "Epoch 263 Loss 0.00387\n",
      "Time taken for 1 epoch 26.923108100891113 sec\n",
      "\n",
      "Epoch 264 Batch 0 Loss 0.00294\n",
      "Epoch 264 Loss 0.00374\n",
      "Time taken for 1 epoch 27.45296597480774 sec\n",
      "\n",
      "Epoch 265 Batch 0 Loss 0.00020\n",
      "Epoch 265 Loss 0.00346\n",
      "Time taken for 1 epoch 26.869532108306885 sec\n",
      "\n",
      "Epoch 266 Batch 0 Loss 0.00398\n",
      "Epoch 266 Loss 0.00378\n",
      "Time taken for 1 epoch 27.42931032180786 sec\n",
      "\n",
      "Epoch 267 Batch 0 Loss 0.00722\n",
      "Epoch 267 Loss 0.00324\n",
      "Time taken for 1 epoch 26.82867121696472 sec\n",
      "\n",
      "Epoch 268 Batch 0 Loss 0.00089\n",
      "Epoch 268 Loss 0.00392\n",
      "Time taken for 1 epoch 27.49260687828064 sec\n",
      "\n",
      "Epoch 269 Batch 0 Loss 0.01511\n",
      "Epoch 269 Loss 0.00411\n",
      "Time taken for 1 epoch 26.855050325393677 sec\n",
      "\n",
      "Epoch 270 Batch 0 Loss 0.00700\n",
      "Epoch 270 Loss 0.00372\n",
      "Time taken for 1 epoch 27.494019508361816 sec\n",
      "\n",
      "Epoch 271 Batch 0 Loss 0.00087\n",
      "Epoch 271 Loss 0.00333\n",
      "Time taken for 1 epoch 26.870779752731323 sec\n",
      "\n",
      "Epoch 272 Batch 0 Loss 0.00018\n",
      "Epoch 272 Loss 0.00359\n",
      "Time taken for 1 epoch 27.493916273117065 sec\n",
      "\n",
      "Epoch 273 Batch 0 Loss 0.00304\n",
      "Epoch 273 Loss 0.00354\n",
      "Time taken for 1 epoch 26.807997703552246 sec\n",
      "\n",
      "Epoch 274 Batch 0 Loss 0.00020\n",
      "Epoch 274 Loss 0.00338\n",
      "Time taken for 1 epoch 27.417731046676636 sec\n",
      "\n",
      "Epoch 275 Batch 0 Loss 0.00024\n",
      "Epoch 275 Loss 0.00369\n",
      "Time taken for 1 epoch 26.851529359817505 sec\n",
      "\n",
      "Epoch 276 Batch 0 Loss 0.00027\n",
      "Epoch 276 Loss 0.00335\n",
      "Time taken for 1 epoch 27.477840662002563 sec\n",
      "\n",
      "Epoch 277 Batch 0 Loss 0.01021\n",
      "Epoch 277 Loss 0.00352\n",
      "Time taken for 1 epoch 26.835236310958862 sec\n",
      "\n",
      "Epoch 278 Batch 0 Loss 0.00487\n",
      "Epoch 278 Loss 0.00304\n",
      "Time taken for 1 epoch 27.450594902038574 sec\n",
      "\n",
      "Epoch 279 Batch 0 Loss 0.00050\n",
      "Epoch 279 Loss 0.00319\n",
      "Time taken for 1 epoch 26.852057456970215 sec\n",
      "\n",
      "Epoch 280 Batch 0 Loss 0.00989\n",
      "Epoch 280 Loss 0.00285\n",
      "Time taken for 1 epoch 27.389444589614868 sec\n",
      "\n",
      "Epoch 281 Batch 0 Loss 0.00021\n",
      "Epoch 281 Loss 0.00311\n",
      "Time taken for 1 epoch 26.82313060760498 sec\n",
      "\n",
      "Epoch 282 Batch 0 Loss 0.00681\n",
      "Epoch 282 Loss 0.00374\n",
      "Time taken for 1 epoch 27.47980284690857 sec\n",
      "\n",
      "Epoch 283 Batch 0 Loss 0.00194\n",
      "Epoch 283 Loss 0.00325\n",
      "Time taken for 1 epoch 26.907404899597168 sec\n",
      "\n",
      "Epoch 284 Batch 0 Loss 0.00204\n",
      "Epoch 284 Loss 0.00341\n",
      "Time taken for 1 epoch 27.412394523620605 sec\n",
      "\n",
      "Epoch 285 Batch 0 Loss 0.00558\n",
      "Epoch 285 Loss 0.00326\n",
      "Time taken for 1 epoch 26.884748458862305 sec\n",
      "\n",
      "Epoch 286 Batch 0 Loss 0.00040\n",
      "Epoch 286 Loss 0.00341\n",
      "Time taken for 1 epoch 27.48435378074646 sec\n",
      "\n",
      "Epoch 287 Batch 0 Loss 0.00019\n",
      "Epoch 287 Loss 0.00357\n",
      "Time taken for 1 epoch 26.83998441696167 sec\n",
      "\n",
      "Epoch 288 Batch 0 Loss 0.00640\n",
      "Epoch 288 Loss 0.00329\n",
      "Time taken for 1 epoch 27.473388195037842 sec\n",
      "\n",
      "Epoch 289 Batch 0 Loss 0.00028\n",
      "Epoch 289 Loss 0.00307\n",
      "Time taken for 1 epoch 26.86859440803528 sec\n",
      "\n",
      "Epoch 290 Batch 0 Loss 0.00021\n",
      "Epoch 290 Loss 0.00366\n",
      "Time taken for 1 epoch 27.411540508270264 sec\n",
      "\n",
      "Epoch 291 Batch 0 Loss 0.00567\n",
      "Epoch 291 Loss 0.00332\n",
      "Time taken for 1 epoch 26.81835174560547 sec\n",
      "\n",
      "Epoch 292 Batch 0 Loss 0.00131\n",
      "Epoch 292 Loss 0.00328\n",
      "Time taken for 1 epoch 27.45696473121643 sec\n",
      "\n",
      "Epoch 293 Batch 0 Loss 0.00021\n",
      "Epoch 293 Loss 0.00325\n",
      "Time taken for 1 epoch 26.816030979156494 sec\n",
      "\n",
      "Epoch 294 Batch 0 Loss 0.00257\n",
      "Epoch 294 Loss 0.00330\n",
      "Time taken for 1 epoch 27.44126009941101 sec\n",
      "\n",
      "Epoch 295 Batch 0 Loss 0.00014\n",
      "Epoch 295 Loss 0.00312\n",
      "Time taken for 1 epoch 26.862807512283325 sec\n",
      "\n",
      "Epoch 296 Batch 0 Loss 0.00420\n",
      "Epoch 296 Loss 0.00300\n",
      "Time taken for 1 epoch 27.408021926879883 sec\n",
      "\n",
      "Epoch 297 Batch 0 Loss 0.00236\n",
      "Epoch 297 Loss 0.00311\n",
      "Time taken for 1 epoch 26.90366792678833 sec\n",
      "\n",
      "Epoch 298 Batch 0 Loss 0.00201\n",
      "Epoch 298 Loss 0.00365\n",
      "Time taken for 1 epoch 27.478633403778076 sec\n",
      "\n",
      "Epoch 299 Batch 0 Loss 0.00009\n",
      "Epoch 299 Loss 0.00278\n",
      "Time taken for 1 epoch 26.86953377723694 sec\n",
      "\n",
      "Epoch 300 Batch 0 Loss 0.00131\n",
      "Epoch 300 Loss 0.00335\n",
      "Time taken for 1 epoch 27.47734546661377 sec\n",
      "\n",
      "Epoch 301 Batch 0 Loss 0.00212\n",
      "Epoch 301 Loss 0.00339\n",
      "Time taken for 1 epoch 26.85285472869873 sec\n",
      "\n",
      "Epoch 302 Batch 0 Loss 0.00013\n",
      "Epoch 302 Loss 0.00266\n",
      "Time taken for 1 epoch 27.37256669998169 sec\n",
      "\n",
      "Epoch 303 Batch 0 Loss 0.00164\n",
      "Epoch 303 Loss 0.00373\n",
      "Time taken for 1 epoch 26.87175726890564 sec\n",
      "\n",
      "Epoch 304 Batch 0 Loss 0.00208\n",
      "Epoch 304 Loss 0.00349\n",
      "Time taken for 1 epoch 27.455995559692383 sec\n",
      "\n",
      "Epoch 305 Batch 0 Loss 0.00015\n",
      "Epoch 305 Loss 0.00313\n",
      "Time taken for 1 epoch 26.830992937088013 sec\n",
      "\n",
      "Epoch 306 Batch 0 Loss 0.00009\n",
      "Epoch 306 Loss 0.00319\n",
      "Time taken for 1 epoch 27.4832181930542 sec\n",
      "\n",
      "Epoch 307 Batch 0 Loss 0.00019\n",
      "Epoch 307 Loss 0.00288\n",
      "Time taken for 1 epoch 26.823403358459473 sec\n",
      "\n",
      "Epoch 308 Batch 0 Loss 0.00011\n",
      "Epoch 308 Loss 0.00339\n",
      "Time taken for 1 epoch 27.431846618652344 sec\n",
      "\n",
      "Epoch 309 Batch 0 Loss 0.00010\n",
      "Epoch 309 Loss 0.00315\n",
      "Time taken for 1 epoch 26.808653831481934 sec\n",
      "\n",
      "Epoch 310 Batch 0 Loss 0.00014\n",
      "Epoch 310 Loss 0.00305\n",
      "Time taken for 1 epoch 27.491939783096313 sec\n",
      "\n",
      "Epoch 311 Batch 0 Loss 0.00209\n",
      "Epoch 311 Loss 0.00256\n",
      "Time taken for 1 epoch 26.75502610206604 sec\n",
      "\n",
      "Epoch 312 Batch 0 Loss 0.00014\n",
      "Epoch 312 Loss 0.00274\n",
      "Time taken for 1 epoch 27.430932760238647 sec\n",
      "\n",
      "Epoch 313 Batch 0 Loss 0.00018\n",
      "Epoch 313 Loss 0.00317\n",
      "Time taken for 1 epoch 29.220144510269165 sec\n",
      "\n",
      "Epoch 314 Batch 0 Loss 0.00011\n",
      "Epoch 314 Loss 0.00288\n",
      "Time taken for 1 epoch 27.843645811080933 sec\n",
      "\n",
      "Epoch 315 Batch 0 Loss 0.00425\n",
      "Epoch 315 Loss 0.00328\n",
      "Time taken for 1 epoch 27.005078077316284 sec\n",
      "\n",
      "Epoch 316 Batch 0 Loss 0.00334\n",
      "Epoch 316 Loss 0.00277\n",
      "Time taken for 1 epoch 27.55589270591736 sec\n",
      "\n",
      "Epoch 317 Batch 0 Loss 0.00138\n",
      "Epoch 317 Loss 0.00325\n",
      "Time taken for 1 epoch 26.979069232940674 sec\n",
      "\n",
      "Epoch 318 Batch 0 Loss 0.00288\n",
      "Epoch 318 Loss 0.00317\n",
      "Time taken for 1 epoch 27.6264328956604 sec\n",
      "\n",
      "Epoch 319 Batch 0 Loss 0.00284\n",
      "Epoch 319 Loss 0.00293\n",
      "Time taken for 1 epoch 27.047083854675293 sec\n",
      "\n",
      "Epoch 320 Batch 0 Loss 0.00036\n",
      "Epoch 320 Loss 0.00339\n",
      "Time taken for 1 epoch 27.629979848861694 sec\n",
      "\n",
      "Epoch 321 Batch 0 Loss 0.00053\n",
      "Epoch 321 Loss 0.00426\n",
      "Time taken for 1 epoch 26.998074054718018 sec\n",
      "\n",
      "Epoch 322 Batch 0 Loss 0.00050\n",
      "Epoch 322 Loss 0.00663\n",
      "Time taken for 1 epoch 27.67254137992859 sec\n",
      "\n",
      "Epoch 323 Batch 0 Loss 0.00268\n",
      "Epoch 323 Loss 0.01140\n",
      "Time taken for 1 epoch 27.006076097488403 sec\n",
      "\n",
      "Epoch 324 Batch 0 Loss 0.01402\n",
      "Epoch 324 Loss 0.02122\n",
      "Time taken for 1 epoch 27.63663625717163 sec\n",
      "\n",
      "Epoch 325 Batch 0 Loss 0.05313\n",
      "Epoch 325 Loss 0.15994\n",
      "Time taken for 1 epoch 26.97807025909424 sec\n",
      "\n",
      "Epoch 326 Batch 0 Loss 0.25057\n",
      "Epoch 326 Loss 0.26763\n",
      "Time taken for 1 epoch 27.65593671798706 sec\n",
      "\n",
      "Epoch 327 Batch 0 Loss 0.42751\n",
      "Epoch 327 Loss 0.23776\n",
      "Time taken for 1 epoch 26.999073266983032 sec\n",
      "\n",
      "Epoch 328 Batch 0 Loss 0.23169\n",
      "Epoch 328 Loss 0.18135\n",
      "Time taken for 1 epoch 27.610926389694214 sec\n",
      "\n",
      "Epoch 329 Batch 0 Loss 0.13891\n",
      "Epoch 329 Loss 0.12265\n",
      "Time taken for 1 epoch 27.11409902572632 sec\n",
      "\n"
     ]
    },
    {
     "name": "stdout",
     "output_type": "stream",
     "text": [
      "Epoch 330 Batch 0 Loss 0.13574\n",
      "Epoch 330 Loss 0.46626\n",
      "Time taken for 1 epoch 27.691344022750854 sec\n",
      "\n",
      "Epoch 331 Batch 0 Loss 0.10804\n",
      "Epoch 331 Loss 0.22998\n",
      "Time taken for 1 epoch 27.015076160430908 sec\n",
      "\n",
      "Epoch 332 Batch 0 Loss 0.04790\n",
      "Epoch 332 Loss 0.10090\n",
      "Time taken for 1 epoch 27.626213312149048 sec\n",
      "\n",
      "Epoch 333 Batch 0 Loss 0.04223\n",
      "Epoch 333 Loss 0.05993\n",
      "Time taken for 1 epoch 27.086085319519043 sec\n",
      "\n",
      "Epoch 334 Batch 0 Loss 0.02363\n",
      "Epoch 334 Loss 0.03502\n",
      "Time taken for 1 epoch 27.636563777923584 sec\n",
      "\n",
      "Epoch 335 Batch 0 Loss 0.00117\n",
      "Epoch 335 Loss 0.01813\n",
      "Time taken for 1 epoch 27.01007652282715 sec\n",
      "\n",
      "Epoch 336 Batch 0 Loss 0.00291\n",
      "Epoch 336 Loss 0.01153\n",
      "Time taken for 1 epoch 27.70356774330139 sec\n",
      "\n",
      "Epoch 337 Batch 0 Loss 0.00191\n",
      "Epoch 337 Loss 0.00891\n",
      "Time taken for 1 epoch 27.000074863433838 sec\n",
      "\n",
      "Epoch 338 Batch 0 Loss 0.01279\n",
      "Epoch 338 Loss 0.00817\n",
      "Time taken for 1 epoch 27.633774757385254 sec\n",
      "\n",
      "Epoch 339 Batch 0 Loss 0.00204\n",
      "Epoch 339 Loss 0.00831\n",
      "Time taken for 1 epoch 27.034082412719727 sec\n",
      "\n",
      "Epoch 340 Batch 0 Loss 0.00767\n",
      "Epoch 340 Loss 0.00739\n",
      "Time taken for 1 epoch 27.69200301170349 sec\n",
      "\n",
      "Epoch 341 Batch 0 Loss 0.00473\n",
      "Epoch 341 Loss 0.00497\n",
      "Time taken for 1 epoch 27.030080556869507 sec\n",
      "\n",
      "Epoch 342 Batch 0 Loss 0.00036\n",
      "Epoch 342 Loss 0.00467\n",
      "Time taken for 1 epoch 27.614803075790405 sec\n",
      "\n",
      "Epoch 343 Batch 0 Loss 0.00591\n",
      "Epoch 343 Loss 0.00537\n",
      "Time taken for 1 epoch 26.99907374382019 sec\n",
      "\n",
      "Epoch 344 Batch 0 Loss 0.00034\n",
      "Epoch 344 Loss 0.00523\n",
      "Time taken for 1 epoch 27.678189516067505 sec\n",
      "\n",
      "Epoch 345 Batch 0 Loss 0.00035\n",
      "Epoch 345 Loss 0.00462\n",
      "Time taken for 1 epoch 27.026081085205078 sec\n",
      "\n",
      "Epoch 346 Batch 0 Loss 0.00787\n",
      "Epoch 346 Loss 0.00387\n",
      "Time taken for 1 epoch 27.73088550567627 sec\n",
      "\n",
      "Epoch 347 Batch 0 Loss 0.00018\n",
      "Epoch 347 Loss 0.00503\n",
      "Time taken for 1 epoch 26.84046769142151 sec\n",
      "\n",
      "Epoch 348 Batch 0 Loss 0.00268\n",
      "Epoch 348 Loss 0.00410\n",
      "Time taken for 1 epoch 27.416123151779175 sec\n",
      "\n",
      "Epoch 349 Batch 0 Loss 0.00040\n",
      "Epoch 349 Loss 0.00402\n",
      "Time taken for 1 epoch 26.815342664718628 sec\n",
      "\n",
      "Epoch 350 Batch 0 Loss 0.00642\n",
      "Epoch 350 Loss 0.00442\n",
      "Time taken for 1 epoch 27.454147338867188 sec\n",
      "\n",
      "Epoch 351 Batch 0 Loss 0.00992\n",
      "Epoch 351 Loss 0.00428\n",
      "Time taken for 1 epoch 26.853188514709473 sec\n",
      "\n",
      "Epoch 352 Batch 0 Loss 0.00090\n",
      "Epoch 352 Loss 0.00360\n",
      "Time taken for 1 epoch 27.450674057006836 sec\n",
      "\n",
      "Epoch 353 Batch 0 Loss 0.00030\n",
      "Epoch 353 Loss 0.00432\n",
      "Time taken for 1 epoch 26.824167013168335 sec\n",
      "\n",
      "Epoch 354 Batch 0 Loss 0.00393\n",
      "Epoch 354 Loss 0.00360\n",
      "Time taken for 1 epoch 27.43488121032715 sec\n",
      "\n",
      "Epoch 355 Batch 0 Loss 0.00013\n",
      "Epoch 355 Loss 0.00417\n",
      "Time taken for 1 epoch 26.800568342208862 sec\n",
      "\n",
      "Epoch 356 Batch 0 Loss 0.00386\n",
      "Epoch 356 Loss 0.00417\n",
      "Time taken for 1 epoch 27.411550998687744 sec\n",
      "\n",
      "Epoch 357 Batch 0 Loss 0.00448\n",
      "Epoch 357 Loss 0.00456\n",
      "Time taken for 1 epoch 26.784398317337036 sec\n",
      "\n",
      "Epoch 358 Batch 0 Loss 0.00435\n",
      "Epoch 358 Loss 0.00461\n",
      "Time taken for 1 epoch 27.46246838569641 sec\n",
      "\n",
      "Epoch 359 Batch 0 Loss 0.00823\n",
      "Epoch 359 Loss 0.00364\n",
      "Time taken for 1 epoch 26.807729482650757 sec\n",
      "\n",
      "Epoch 360 Batch 0 Loss 0.00037\n",
      "Epoch 360 Loss 0.00424\n",
      "Time taken for 1 epoch 27.477914333343506 sec\n",
      "\n",
      "Epoch 361 Batch 0 Loss 0.00033\n",
      "Epoch 361 Loss 0.00364\n",
      "Time taken for 1 epoch 26.908623933792114 sec\n",
      "\n",
      "Epoch 362 Batch 0 Loss 0.00022\n",
      "Epoch 362 Loss 0.00395\n",
      "Time taken for 1 epoch 27.510273933410645 sec\n",
      "\n",
      "Epoch 363 Batch 0 Loss 0.00363\n",
      "Epoch 363 Loss 0.00437\n",
      "Time taken for 1 epoch 26.865867853164673 sec\n",
      "\n",
      "Epoch 364 Batch 0 Loss 0.00156\n",
      "Epoch 364 Loss 0.00382\n",
      "Time taken for 1 epoch 27.452094793319702 sec\n",
      "\n",
      "Epoch 365 Batch 0 Loss 0.00018\n",
      "Epoch 365 Loss 0.00385\n",
      "Time taken for 1 epoch 26.890534162521362 sec\n",
      "\n",
      "Epoch 366 Batch 0 Loss 0.00702\n",
      "Epoch 366 Loss 0.00387\n",
      "Time taken for 1 epoch 27.341161727905273 sec\n",
      "\n",
      "Epoch 367 Batch 0 Loss 0.00073\n",
      "Epoch 367 Loss 0.00352\n",
      "Time taken for 1 epoch 26.869478940963745 sec\n",
      "\n",
      "Epoch 368 Batch 0 Loss 0.00796\n",
      "Epoch 368 Loss 0.00345\n",
      "Time taken for 1 epoch 27.473268032073975 sec\n",
      "\n",
      "Epoch 369 Batch 0 Loss 0.00129\n",
      "Epoch 369 Loss 0.00395\n",
      "Time taken for 1 epoch 26.815449237823486 sec\n",
      "\n",
      "Epoch 370 Batch 0 Loss 0.00233\n",
      "Epoch 370 Loss 0.00340\n",
      "Time taken for 1 epoch 27.40887427330017 sec\n",
      "\n",
      "Epoch 371 Batch 0 Loss 0.00006\n",
      "Epoch 371 Loss 0.00384\n",
      "Time taken for 1 epoch 26.887721300125122 sec\n",
      "\n",
      "Epoch 372 Batch 0 Loss 0.00469\n",
      "Epoch 372 Loss 0.00320\n",
      "Time taken for 1 epoch 27.456804037094116 sec\n",
      "\n",
      "Epoch 373 Batch 0 Loss 0.00277\n",
      "Epoch 373 Loss 0.00412\n",
      "Time taken for 1 epoch 26.806308269500732 sec\n",
      "\n",
      "Epoch 374 Batch 0 Loss 0.00135\n",
      "Epoch 374 Loss 0.00358\n",
      "Time taken for 1 epoch 27.440246105194092 sec\n",
      "\n",
      "Epoch 375 Batch 0 Loss 0.00303\n",
      "Epoch 375 Loss 0.00377\n",
      "Time taken for 1 epoch 26.811194896697998 sec\n",
      "\n",
      "Epoch 376 Batch 0 Loss 0.00071\n",
      "Epoch 376 Loss 0.00381\n",
      "Time taken for 1 epoch 27.385611534118652 sec\n",
      "\n",
      "Epoch 377 Batch 0 Loss 0.00318\n",
      "Epoch 377 Loss 0.00333\n",
      "Time taken for 1 epoch 26.818887948989868 sec\n",
      "\n",
      "Epoch 378 Batch 0 Loss 0.00113\n",
      "Epoch 378 Loss 0.00432\n",
      "Time taken for 1 epoch 27.37304973602295 sec\n",
      "\n",
      "Epoch 379 Batch 0 Loss 0.00153\n",
      "Epoch 379 Loss 0.00314\n",
      "Time taken for 1 epoch 26.88828158378601 sec\n",
      "\n",
      "Epoch 380 Batch 0 Loss 0.00006\n",
      "Epoch 380 Loss 0.00354\n",
      "Time taken for 1 epoch 27.482877016067505 sec\n",
      "\n",
      "Epoch 381 Batch 0 Loss 0.00144\n",
      "Epoch 381 Loss 0.00360\n",
      "Time taken for 1 epoch 26.83479380607605 sec\n",
      "\n",
      "Epoch 382 Batch 0 Loss 0.00110\n",
      "Epoch 382 Loss 0.00350\n",
      "Time taken for 1 epoch 27.461695909500122 sec\n",
      "\n",
      "Epoch 383 Batch 0 Loss 0.00345\n",
      "Epoch 383 Loss 0.00362\n",
      "Time taken for 1 epoch 26.865612506866455 sec\n",
      "\n",
      "Epoch 384 Batch 0 Loss 0.00014\n",
      "Epoch 384 Loss 0.00367\n",
      "Time taken for 1 epoch 27.44856882095337 sec\n",
      "\n",
      "Epoch 385 Batch 0 Loss 0.00229\n",
      "Epoch 385 Loss 0.00323\n",
      "Time taken for 1 epoch 26.807817697525024 sec\n",
      "\n",
      "Epoch 386 Batch 0 Loss 0.00038\n",
      "Epoch 386 Loss 0.00425\n",
      "Time taken for 1 epoch 27.425232410430908 sec\n",
      "\n",
      "Epoch 387 Batch 0 Loss 0.00011\n",
      "Epoch 387 Loss 0.00327\n",
      "Time taken for 1 epoch 26.81781005859375 sec\n",
      "\n",
      "Epoch 388 Batch 0 Loss 0.00006\n",
      "Epoch 388 Loss 0.00336\n",
      "Time taken for 1 epoch 27.4391827583313 sec\n",
      "\n",
      "Epoch 389 Batch 0 Loss 0.00545\n",
      "Epoch 389 Loss 0.00366\n",
      "Time taken for 1 epoch 26.830683946609497 sec\n",
      "\n",
      "Epoch 390 Batch 0 Loss 0.00016\n",
      "Epoch 390 Loss 0.00329\n",
      "Time taken for 1 epoch 27.42792010307312 sec\n",
      "\n",
      "Epoch 391 Batch 0 Loss 0.00017\n",
      "Epoch 391 Loss 0.00361\n",
      "Time taken for 1 epoch 26.868854761123657 sec\n",
      "\n",
      "Epoch 392 Batch 0 Loss 0.00250\n",
      "Epoch 392 Loss 0.00340\n",
      "Time taken for 1 epoch 27.465801239013672 sec\n",
      "\n",
      "Epoch 393 Batch 0 Loss 0.00005\n",
      "Epoch 393 Loss 0.00305\n",
      "Time taken for 1 epoch 26.814494609832764 sec\n",
      "\n",
      "Epoch 394 Batch 0 Loss 0.00173\n",
      "Epoch 394 Loss 0.00397\n",
      "Time taken for 1 epoch 27.425870180130005 sec\n",
      "\n",
      "Epoch 395 Batch 0 Loss 0.00466\n",
      "Epoch 395 Loss 0.00327\n",
      "Time taken for 1 epoch 26.80165457725525 sec\n",
      "\n",
      "Epoch 396 Batch 0 Loss 0.00168\n",
      "Epoch 396 Loss 0.00304\n",
      "Time taken for 1 epoch 27.437164306640625 sec\n",
      "\n",
      "Epoch 397 Batch 0 Loss 0.00169\n",
      "Epoch 397 Loss 0.00339\n",
      "Time taken for 1 epoch 26.831788301467896 sec\n",
      "\n",
      "Epoch 398 Batch 0 Loss 0.00010\n",
      "Epoch 398 Loss 0.00342\n",
      "Time taken for 1 epoch 27.49989676475525 sec\n",
      "\n",
      "Epoch 399 Batch 0 Loss 0.00186\n",
      "Epoch 399 Loss 0.00324\n",
      "Time taken for 1 epoch 26.837828397750854 sec\n",
      "\n",
      "Epoch 400 Batch 0 Loss 0.00011\n",
      "Epoch 400 Loss 0.00347\n",
      "Time taken for 1 epoch 27.47365379333496 sec\n",
      "\n",
      "Epoch 401 Batch 0 Loss 0.00344\n",
      "Epoch 401 Loss 0.00298\n",
      "Time taken for 1 epoch 26.853582859039307 sec\n",
      "\n",
      "Epoch 402 Batch 0 Loss 0.00146\n",
      "Epoch 402 Loss 0.00326\n",
      "Time taken for 1 epoch 27.500174045562744 sec\n",
      "\n",
      "Epoch 403 Batch 0 Loss 0.00300\n",
      "Epoch 403 Loss 0.00334\n",
      "Time taken for 1 epoch 26.85568141937256 sec\n",
      "\n",
      "Epoch 404 Batch 0 Loss 0.00011\n",
      "Epoch 404 Loss 0.00294\n",
      "Time taken for 1 epoch 27.48140788078308 sec\n",
      "\n",
      "Epoch 405 Batch 0 Loss 0.00008\n",
      "Epoch 405 Loss 0.00329\n",
      "Time taken for 1 epoch 26.901289224624634 sec\n",
      "\n",
      "Epoch 406 Batch 0 Loss 0.00009\n",
      "Epoch 406 Loss 0.00330\n",
      "Time taken for 1 epoch 27.507216453552246 sec\n",
      "\n",
      "Epoch 407 Batch 0 Loss 0.00009\n",
      "Epoch 407 Loss 0.00330\n",
      "Time taken for 1 epoch 26.85207486152649 sec\n",
      "\n",
      "Epoch 408 Batch 0 Loss 0.00008\n",
      "Epoch 408 Loss 0.00307\n",
      "Time taken for 1 epoch 27.481277465820312 sec\n",
      "\n",
      "Epoch 409 Batch 0 Loss 0.00056\n",
      "Epoch 409 Loss 0.00293\n",
      "Time taken for 1 epoch 26.821932792663574 sec\n",
      "\n",
      "Epoch 410 Batch 0 Loss 0.00010\n",
      "Epoch 410 Loss 0.00333\n",
      "Time taken for 1 epoch 27.437875747680664 sec\n",
      "\n",
      "Epoch 411 Batch 0 Loss 0.00761\n",
      "Epoch 411 Loss 0.00328\n",
      "Time taken for 1 epoch 26.882685661315918 sec\n",
      "\n"
     ]
    },
    {
     "name": "stdout",
     "output_type": "stream",
     "text": [
      "Epoch 412 Batch 0 Loss 0.00010\n",
      "Epoch 412 Loss 0.00337\n",
      "Time taken for 1 epoch 27.369832754135132 sec\n",
      "\n",
      "Epoch 413 Batch 0 Loss 0.00014\n",
      "Epoch 413 Loss 0.00313\n",
      "Time taken for 1 epoch 26.863064527511597 sec\n",
      "\n",
      "Epoch 414 Batch 0 Loss 0.00372\n",
      "Epoch 414 Loss 0.00312\n",
      "Time taken for 1 epoch 27.464188814163208 sec\n",
      "\n",
      "Epoch 415 Batch 0 Loss 0.00286\n",
      "Epoch 415 Loss 0.00322\n",
      "Time taken for 1 epoch 26.85512137413025 sec\n",
      "\n",
      "Epoch 416 Batch 0 Loss 0.00171\n",
      "Epoch 416 Loss 0.00363\n",
      "Time taken for 1 epoch 27.453337907791138 sec\n",
      "\n",
      "Epoch 417 Batch 0 Loss 0.00008\n",
      "Epoch 417 Loss 0.00338\n",
      "Time taken for 1 epoch 26.80702304840088 sec\n",
      "\n",
      "Epoch 418 Batch 0 Loss 0.00144\n",
      "Epoch 418 Loss 0.00311\n",
      "Time taken for 1 epoch 27.45346426963806 sec\n",
      "\n",
      "Epoch 419 Batch 0 Loss 0.00544\n",
      "Epoch 419 Loss 0.00321\n",
      "Time taken for 1 epoch 26.853187799453735 sec\n",
      "\n",
      "Epoch 420 Batch 0 Loss 0.00419\n",
      "Epoch 420 Loss 0.00311\n",
      "Time taken for 1 epoch 27.60598659515381 sec\n",
      "\n",
      "Epoch 421 Batch 0 Loss 0.00009\n",
      "Epoch 421 Loss 0.00329\n",
      "Time taken for 1 epoch 28.11643099784851 sec\n",
      "\n",
      "Epoch 422 Batch 0 Loss 0.00008\n",
      "Epoch 422 Loss 0.00299\n",
      "Time taken for 1 epoch 27.574944734573364 sec\n",
      "\n",
      "Epoch 423 Batch 0 Loss 0.00246\n",
      "Epoch 423 Loss 0.00312\n",
      "Time taken for 1 epoch 26.9170560836792 sec\n",
      "\n",
      "Epoch 424 Batch 0 Loss 0.00306\n",
      "Epoch 424 Loss 0.00252\n",
      "Time taken for 1 epoch 27.57806706428528 sec\n",
      "\n",
      "Epoch 425 Batch 0 Loss 0.00004\n",
      "Epoch 425 Loss 0.00341\n",
      "Time taken for 1 epoch 27.0330810546875 sec\n",
      "\n",
      "Epoch 426 Batch 0 Loss 0.00190\n",
      "Epoch 426 Loss 0.00299\n",
      "Time taken for 1 epoch 27.60916519165039 sec\n",
      "\n",
      "Epoch 427 Batch 0 Loss 0.00099\n",
      "Epoch 427 Loss 0.00291\n",
      "Time taken for 1 epoch 26.971067667007446 sec\n",
      "\n",
      "Epoch 428 Batch 0 Loss 0.00011\n",
      "Epoch 428 Loss 0.00335\n",
      "Time taken for 1 epoch 27.645375728607178 sec\n",
      "\n",
      "Epoch 429 Batch 0 Loss 0.00547\n",
      "Epoch 429 Loss 0.00341\n",
      "Time taken for 1 epoch 27.007075309753418 sec\n",
      "\n",
      "Epoch 430 Batch 0 Loss 0.00397\n",
      "Epoch 430 Loss 0.00319\n",
      "Time taken for 1 epoch 27.724308490753174 sec\n",
      "\n",
      "Epoch 431 Batch 0 Loss 0.00565\n",
      "Epoch 431 Loss 0.00335\n",
      "Time taken for 1 epoch 26.96106505393982 sec\n",
      "\n",
      "Epoch 432 Batch 0 Loss 0.00411\n",
      "Epoch 432 Loss 0.00294\n",
      "Time taken for 1 epoch 27.643400192260742 sec\n",
      "\n",
      "Epoch 433 Batch 0 Loss 0.00500\n",
      "Epoch 433 Loss 0.00315\n",
      "Time taken for 1 epoch 27.008076429367065 sec\n",
      "\n",
      "Epoch 434 Batch 0 Loss 0.00009\n",
      "Epoch 434 Loss 0.00297\n",
      "Time taken for 1 epoch 27.621660470962524 sec\n",
      "\n",
      "Epoch 435 Batch 0 Loss 0.00009\n",
      "Epoch 435 Loss 0.00285\n",
      "Time taken for 1 epoch 26.98306965827942 sec\n",
      "\n",
      "Epoch 436 Batch 0 Loss 0.00008\n",
      "Epoch 436 Loss 0.00294\n",
      "Time taken for 1 epoch 27.63695979118347 sec\n",
      "\n",
      "Epoch 437 Batch 0 Loss 0.00378\n",
      "Epoch 437 Loss 0.00302\n",
      "Time taken for 1 epoch 27.019078016281128 sec\n",
      "\n",
      "Epoch 438 Batch 0 Loss 0.00973\n",
      "Epoch 438 Loss 0.00291\n",
      "Time taken for 1 epoch 27.63695526123047 sec\n",
      "\n",
      "Epoch 439 Batch 0 Loss 0.00324\n",
      "Epoch 439 Loss 0.00312\n",
      "Time taken for 1 epoch 26.954062938690186 sec\n",
      "\n",
      "Epoch 440 Batch 0 Loss 0.00007\n",
      "Epoch 440 Loss 0.00302\n",
      "Time taken for 1 epoch 27.66947293281555 sec\n",
      "\n",
      "Epoch 441 Batch 0 Loss 0.00659\n",
      "Epoch 441 Loss 0.00273\n",
      "Time taken for 1 epoch 27.006074905395508 sec\n",
      "\n",
      "Epoch 442 Batch 0 Loss 0.00190\n",
      "Epoch 442 Loss 0.00280\n",
      "Time taken for 1 epoch 27.645816326141357 sec\n",
      "\n",
      "Epoch 443 Batch 0 Loss 0.00907\n",
      "Epoch 443 Loss 0.00333\n",
      "Time taken for 1 epoch 26.960066080093384 sec\n",
      "\n",
      "Epoch 444 Batch 0 Loss 0.00657\n",
      "Epoch 444 Loss 0.00288\n",
      "Time taken for 1 epoch 27.578521251678467 sec\n",
      "\n",
      "Epoch 445 Batch 0 Loss 0.00417\n",
      "Epoch 445 Loss 0.00286\n",
      "Time taken for 1 epoch 26.956064224243164 sec\n",
      "\n",
      "Epoch 446 Batch 0 Loss 0.00206\n",
      "Epoch 446 Loss 0.00298\n",
      "Time taken for 1 epoch 27.663139820098877 sec\n",
      "\n",
      "Epoch 447 Batch 0 Loss 0.00006\n",
      "Epoch 447 Loss 0.00259\n",
      "Time taken for 1 epoch 27.02307891845703 sec\n",
      "\n",
      "Epoch 448 Batch 0 Loss 0.00481\n",
      "Epoch 448 Loss 0.00282\n",
      "Time taken for 1 epoch 27.590402603149414 sec\n",
      "\n",
      "Epoch 449 Batch 0 Loss 0.00424\n",
      "Epoch 449 Loss 0.00320\n",
      "Time taken for 1 epoch 26.988062381744385 sec\n",
      "\n",
      "Epoch 450 Batch 0 Loss 0.00009\n",
      "Epoch 450 Loss 0.00296\n",
      "Time taken for 1 epoch 27.60502529144287 sec\n",
      "\n",
      "Epoch 451 Batch 0 Loss 0.00013\n",
      "Epoch 451 Loss 0.00315\n",
      "Time taken for 1 epoch 26.994073152542114 sec\n",
      "\n",
      "Epoch 452 Batch 0 Loss 0.01132\n",
      "Epoch 452 Loss 0.00311\n",
      "Time taken for 1 epoch 27.59250020980835 sec\n",
      "\n",
      "Epoch 453 Batch 0 Loss 0.00350\n",
      "Epoch 453 Loss 0.00299\n",
      "Time taken for 1 epoch 27.036081314086914 sec\n",
      "\n",
      "Epoch 454 Batch 0 Loss 0.00552\n",
      "Epoch 454 Loss 0.00284\n",
      "Time taken for 1 epoch 27.737757444381714 sec\n",
      "\n",
      "Epoch 455 Batch 0 Loss 0.00007\n",
      "Epoch 455 Loss 0.00283\n",
      "Time taken for 1 epoch 26.903327465057373 sec\n",
      "\n",
      "Epoch 456 Batch 0 Loss 0.00067\n",
      "Epoch 456 Loss 0.00290\n",
      "Time taken for 1 epoch 27.36447501182556 sec\n",
      "\n",
      "Epoch 457 Batch 0 Loss 0.00060\n",
      "Epoch 457 Loss 0.00267\n",
      "Time taken for 1 epoch 26.820605754852295 sec\n",
      "\n",
      "Epoch 458 Batch 0 Loss 0.00465\n",
      "Epoch 458 Loss 0.00295\n",
      "Time taken for 1 epoch 27.487622499465942 sec\n",
      "\n",
      "Epoch 459 Batch 0 Loss 0.00301\n",
      "Epoch 459 Loss 0.00356\n",
      "Time taken for 1 epoch 26.81796646118164 sec\n",
      "\n",
      "Epoch 460 Batch 0 Loss 0.00024\n",
      "Epoch 460 Loss 0.17281\n",
      "Time taken for 1 epoch 27.485718965530396 sec\n",
      "\n",
      "Epoch 461 Batch 0 Loss 0.47886\n",
      "Epoch 461 Loss 0.42572\n",
      "Time taken for 1 epoch 26.892101764678955 sec\n",
      "\n",
      "Epoch 462 Batch 0 Loss 0.19319\n",
      "Epoch 462 Loss 0.28012\n",
      "Time taken for 1 epoch 27.473360538482666 sec\n",
      "\n",
      "Epoch 463 Batch 0 Loss 0.33065\n",
      "Epoch 463 Loss 0.23186\n",
      "Time taken for 1 epoch 26.86763334274292 sec\n",
      "\n",
      "Epoch 464 Batch 0 Loss 0.14025\n",
      "Epoch 464 Loss 0.20301\n",
      "Time taken for 1 epoch 27.43166160583496 sec\n",
      "\n",
      "Epoch 465 Batch 0 Loss 0.40084\n",
      "Epoch 465 Loss 0.16582\n",
      "Time taken for 1 epoch 26.919891119003296 sec\n",
      "\n",
      "Epoch 466 Batch 0 Loss 0.05142\n",
      "Epoch 466 Loss 0.12509\n",
      "Time taken for 1 epoch 27.43565082550049 sec\n",
      "\n",
      "Epoch 467 Batch 0 Loss 0.29120\n",
      "Epoch 467 Loss 0.09771\n",
      "Time taken for 1 epoch 26.855178356170654 sec\n",
      "\n",
      "Epoch 468 Batch 0 Loss 0.02543\n",
      "Epoch 468 Loss 0.04823\n",
      "Time taken for 1 epoch 27.494041204452515 sec\n",
      "\n",
      "Epoch 469 Batch 0 Loss 0.03197\n",
      "Epoch 469 Loss 0.02404\n",
      "Time taken for 1 epoch 26.83099675178528 sec\n",
      "\n",
      "Epoch 470 Batch 0 Loss 0.03114\n",
      "Epoch 470 Loss 0.01672\n",
      "Time taken for 1 epoch 27.510583877563477 sec\n",
      "\n",
      "Epoch 471 Batch 0 Loss 0.00462\n",
      "Epoch 471 Loss 0.01372\n",
      "Time taken for 1 epoch 26.86832094192505 sec\n",
      "\n",
      "Epoch 472 Batch 0 Loss 0.09195\n",
      "Epoch 472 Loss 0.01349\n",
      "Time taken for 1 epoch 27.55483102798462 sec\n",
      "\n",
      "Epoch 473 Batch 0 Loss 0.00073\n",
      "Epoch 473 Loss 0.00952\n",
      "Time taken for 1 epoch 26.875898122787476 sec\n",
      "\n",
      "Epoch 474 Batch 0 Loss 0.00055\n",
      "Epoch 474 Loss 0.00898\n",
      "Time taken for 1 epoch 27.41985774040222 sec\n",
      "\n",
      "Epoch 475 Batch 0 Loss 0.01528\n",
      "Epoch 475 Loss 0.01329\n",
      "Time taken for 1 epoch 26.840904235839844 sec\n",
      "\n",
      "Epoch 476 Batch 0 Loss 0.00968\n",
      "Epoch 476 Loss 0.02686\n",
      "Time taken for 1 epoch 27.486443042755127 sec\n",
      "\n",
      "Epoch 477 Batch 0 Loss 0.04558\n",
      "Epoch 477 Loss 0.13197\n",
      "Time taken for 1 epoch 26.88424277305603 sec\n",
      "\n",
      "Epoch 478 Batch 0 Loss 0.11483\n",
      "Epoch 478 Loss 0.39159\n",
      "Time taken for 1 epoch 27.498682975769043 sec\n",
      "\n",
      "Epoch 479 Batch 0 Loss 0.43233\n",
      "Epoch 479 Loss 0.19986\n",
      "Time taken for 1 epoch 26.837355375289917 sec\n",
      "\n",
      "Epoch 480 Batch 0 Loss 0.03613\n",
      "Epoch 480 Loss 0.10464\n",
      "Time taken for 1 epoch 27.44871735572815 sec\n",
      "\n",
      "Epoch 481 Batch 0 Loss 0.09379\n",
      "Epoch 481 Loss 0.07908\n",
      "Time taken for 1 epoch 26.822499990463257 sec\n",
      "\n",
      "Epoch 482 Batch 0 Loss 0.10531\n",
      "Epoch 482 Loss 0.04339\n",
      "Time taken for 1 epoch 27.539680242538452 sec\n",
      "\n",
      "Epoch 483 Batch 0 Loss 0.00895\n",
      "Epoch 483 Loss 0.02676\n",
      "Time taken for 1 epoch 26.88574528694153 sec\n",
      "\n",
      "Epoch 484 Batch 0 Loss 0.00152\n",
      "Epoch 484 Loss 0.02069\n",
      "Time taken for 1 epoch 27.501920223236084 sec\n",
      "\n",
      "Epoch 485 Batch 0 Loss 0.02688\n",
      "Epoch 485 Loss 0.01390\n",
      "Time taken for 1 epoch 26.82552194595337 sec\n",
      "\n",
      "Epoch 486 Batch 0 Loss 0.00917\n",
      "Epoch 486 Loss 0.01474\n",
      "Time taken for 1 epoch 27.41183304786682 sec\n",
      "\n",
      "Epoch 487 Batch 0 Loss 0.02381\n",
      "Epoch 487 Loss 0.00826\n",
      "Time taken for 1 epoch 26.89096426963806 sec\n",
      "\n",
      "Epoch 488 Batch 0 Loss 0.00050\n",
      "Epoch 488 Loss 0.00985\n",
      "Time taken for 1 epoch 27.432753086090088 sec\n",
      "\n",
      "Epoch 489 Batch 0 Loss 0.00055\n",
      "Epoch 489 Loss 0.00961\n",
      "Time taken for 1 epoch 26.87088680267334 sec\n",
      "\n",
      "Epoch 490 Batch 0 Loss 0.02374\n",
      "Epoch 490 Loss 0.00839\n",
      "Time taken for 1 epoch 27.55884599685669 sec\n",
      "\n",
      "Epoch 491 Batch 0 Loss 0.03007\n",
      "Epoch 491 Loss 0.00725\n",
      "Time taken for 1 epoch 26.882553100585938 sec\n",
      "\n",
      "Epoch 492 Batch 0 Loss 0.00028\n",
      "Epoch 492 Loss 0.00654\n",
      "Time taken for 1 epoch 27.4225013256073 sec\n",
      "\n",
      "Epoch 493 Batch 0 Loss 0.00091\n",
      "Epoch 493 Loss 0.00645\n",
      "Time taken for 1 epoch 26.856499671936035 sec\n",
      "\n"
     ]
    },
    {
     "name": "stdout",
     "output_type": "stream",
     "text": [
      "Epoch 494 Batch 0 Loss 0.00830\n",
      "Epoch 494 Loss 0.00529\n",
      "Time taken for 1 epoch 27.473096132278442 sec\n",
      "\n",
      "Epoch 495 Batch 0 Loss 0.00854\n",
      "Epoch 495 Loss 0.00517\n",
      "Time taken for 1 epoch 26.81702971458435 sec\n",
      "\n",
      "Epoch 496 Batch 0 Loss 0.00790\n",
      "Epoch 496 Loss 0.00415\n",
      "Time taken for 1 epoch 27.468892812728882 sec\n",
      "\n",
      "Epoch 497 Batch 0 Loss 0.00123\n",
      "Epoch 497 Loss 0.00451\n",
      "Time taken for 1 epoch 26.807093381881714 sec\n",
      "\n",
      "Epoch 498 Batch 0 Loss 0.00925\n",
      "Epoch 498 Loss 0.00488\n",
      "Time taken for 1 epoch 27.47085189819336 sec\n",
      "\n",
      "Epoch 499 Batch 0 Loss 0.00010\n",
      "Epoch 499 Loss 0.00512\n",
      "Time taken for 1 epoch 26.83105206489563 sec\n",
      "\n",
      "Epoch 500 Batch 0 Loss 0.00012\n",
      "Epoch 500 Loss 0.00422\n",
      "Time taken for 1 epoch 27.44649839401245 sec\n",
      "\n"
     ]
    }
   ],
   "source": [
    "EPOCHS = 500\n",
    "\n",
    "for epoch in range(EPOCHS):\n",
    "  start = time.time()\n",
    "\n",
    "  enc_hidden = encoder.initialize_hidden_state()\n",
    "  total_loss = 0\n",
    "  # print(enc_hidden[0].shape, enc_hidden[1].shape)\n",
    "\n",
    "  for (batch, (inp, targ)) in enumerate(train_dataset.take(steps_per_epoch)):\n",
    "    batch_loss = train_step(inp, targ, enc_hidden)\n",
    "    total_loss += batch_loss\n",
    "\n",
    "    if batch % 100 == 0:\n",
    "      print('Epoch {} Batch {} Loss {:.5f}'.format(epoch + 1,\n",
    "                                                   batch,\n",
    "                                                   batch_loss.numpy()))\n",
    "  # saving (checkpoint) the model every 2 epochs\n",
    "  if (epoch + 1) % 2 == 0:\n",
    "    checkpoint.save(file_prefix = checkpoint_prefix)\n",
    "\n",
    "  print('Epoch {} Loss {:.5f}'.format(epoch + 1,\n",
    "                                      total_loss / steps_per_epoch))\n",
    "  print('Time taken for 1 epoch {} sec\\n'.format(time.time() - start))"
   ]
  },
  {
   "cell_type": "code",
   "execution_count": 16,
   "metadata": {
    "id": "mz9pLIDJv35s"
   },
   "outputs": [],
   "source": [
    "def evaluate_sentence(sentence):\n",
    "  sentence = dataset_creator.preprocess_sentence(sentence)\n",
    "\n",
    "  inputs = [inp_lang.word_index[i] for i in sentence.split(' ')]\n",
    "  inputs = tf.keras.preprocessing.sequence.pad_sequences([inputs],\n",
    "                                                          maxlen=max_length_input,\n",
    "                                                          padding='post')\n",
    "  inputs = tf.convert_to_tensor(inputs)\n",
    "  inference_batch_size = inputs.shape[0]\n",
    "  result = ''\n",
    "\n",
    "  enc_start_state = [tf.zeros((inference_batch_size, units)), tf.zeros((inference_batch_size,units))]\n",
    "  enc_out, enc_h, enc_c = encoder(inputs, enc_start_state)\n",
    "\n",
    "  dec_h = enc_h\n",
    "  dec_c = enc_c\n",
    "\n",
    "  start_tokens = tf.fill([inference_batch_size], targ_lang.word_index['<start>'])\n",
    "  end_token = targ_lang.word_index['<end>']\n",
    "\n",
    "  greedy_sampler = tfa.seq2seq.GreedyEmbeddingSampler()\n",
    "\n",
    "  # Instantiate BasicDecoder object\n",
    "  decoder_instance = tfa.seq2seq.BasicDecoder(cell=decoder.rnn_cell, sampler=greedy_sampler, output_layer=decoder.fc)\n",
    "  # Setup Memory in decoder stack\n",
    "  decoder.attention_mechanism.setup_memory(enc_out)\n",
    "\n",
    "  # set decoder_initial_state\n",
    "  decoder_initial_state = decoder.build_initial_state(inference_batch_size, [enc_h, enc_c], tf.float32)\n",
    "\n",
    "\n",
    "  ### Since the BasicDecoder wraps around Decoder's rnn cell only, you have to ensure that the inputs to BasicDecoder \n",
    "  ### decoding step is output of embedding layer. tfa.seq2seq.GreedyEmbeddingSampler() takes care of this. \n",
    "  ### You only need to get the weights of embedding layer, which can be done by decoder.embedding.variables[0] and pass this callabble to BasicDecoder's call() function\n",
    "\n",
    "  decoder_embedding_matrix = decoder.embedding.variables[0]\n",
    "\n",
    "  outputs, _, _ = decoder_instance(decoder_embedding_matrix, start_tokens = start_tokens, end_token= end_token, initial_state=decoder_initial_state)\n",
    "  return outputs.sample_id.numpy()\n",
    "\n",
    "def translate(sentence):\n",
    "  result = evaluate_sentence(sentence)\n",
    "  print(result)\n",
    "  result = targ_lang.sequences_to_texts(result)\n",
    "  print('Input: %s' % (sentence))\n",
    "  print('Predicted translation: {}'.format(result))"
   ]
  },
  {
   "cell_type": "code",
   "execution_count": 17,
   "metadata": {
    "id": "q6HnJVuKv38v"
   },
   "outputs": [
    {
     "data": {
      "text/plain": [
       "<tensorflow.python.training.tracking.util.CheckpointLoadStatus at 0x28335641c70>"
      ]
     },
     "execution_count": 17,
     "metadata": {},
     "output_type": "execute_result"
    }
   ],
   "source": [
    "# restoring the latest checkpoint in checkpoint_dir\n",
    "checkpoint.restore(tf.train.latest_checkpoint(checkpoint_dir))"
   ]
  },
  {
   "cell_type": "code",
   "execution_count": 18,
   "metadata": {
    "id": "nEMIdEbcv4AR"
   },
   "outputs": [
    {
     "name": "stdout",
     "output_type": "stream",
     "text": [
      "[[  9   8  56 107   6   3]]\n",
      "Input: Peu awak nyan meurasa salah?\n",
      "Predicted translation: ['apa kamu merasa bersalah ? <end>']\n"
     ]
    }
   ],
   "source": [
    "translate(u'Peu awak nyan meurasa salah?')"
   ]
  },
  {
   "cell_type": "code",
   "execution_count": 19,
   "metadata": {
    "id": "RL-XIe7Av4C1"
   },
   "outputs": [
    {
     "name": "stdout",
     "output_type": "stream",
     "text": [
      "[[  7 106  34   4   3]]\n",
      "Input: Ahmad cuma meuseunda.\n",
      "Predicted translation: ['ahmad cuma bercanda . <end>']\n"
     ]
    }
   ],
   "source": [
    "translate(u'Ahmad cuma meuseunda.')"
   ]
  },
  {
   "cell_type": "code",
   "execution_count": 20,
   "metadata": {
    "id": "jalrd8Ytv4F2"
   },
   "outputs": [
    {
     "name": "stdout",
     "output_type": "stream",
     "text": [
      "[[ 9  7 34  6  3]]\n",
      "Input: Peu Ahmad meuseunda?\n",
      "Predicted translation: ['apa ahmad bercanda ? <end>']\n"
     ]
    }
   ],
   "source": [
    "translate(u'Peu Ahmad meuseunda?')"
   ]
  },
  {
   "cell_type": "code",
   "execution_count": 21,
   "metadata": {
    "id": "cIYtZbl3v4JZ"
   },
   "outputs": [
    {
     "name": "stdout",
     "output_type": "stream",
     "text": [
      "[[ 7 20 36 84  4  3]]\n",
      "Input: Ahmad adalah sidroe siswa.\n",
      "Predicted translation: ['ahmad adalah seorang siswa . <end>']\n"
     ]
    }
   ],
   "source": [
    "translate(u'Ahmad adalah sidroe siswa.')"
   ]
  },
  {
   "cell_type": "code",
   "execution_count": 22,
   "metadata": {
    "id": "jOJEf6qnv4NB"
   },
   "outputs": [
    {
     "name": "stdout",
     "output_type": "stream",
     "text": [
      "[[ 5 67 89  4  3]]\n",
      "Input: Lôn beuruntông.\n",
      "Predicted translation: ['saya dengan laki . <end>']\n"
     ]
    }
   ],
   "source": [
    "translate(u'Lôn beuruntông.')"
   ]
  },
  {
   "cell_type": "code",
   "execution_count": 23,
   "metadata": {
    "id": "M5GDdPCWv4SR"
   },
   "outputs": [
    {
     "name": "stdout",
     "output_type": "stream",
     "text": [
      "[[69 20 36 69  4  3]]\n",
      "Input: Nisa adalah sidroe dokter.\n",
      "Predicted translation: ['nisa adalah seorang nisa . <end>']\n"
     ]
    }
   ],
   "source": [
    "translate(u'Nisa adalah sidroe dokter.')"
   ]
  },
  {
   "cell_type": "code",
   "execution_count": 24,
   "metadata": {
    "id": "pJavjpNlxGP_"
   },
   "outputs": [
    {
     "name": "stdout",
     "output_type": "stream",
     "text": [
      "[[ 31 290   7  14   3]]\n",
      "Input: Bèk kapeu meuen Ahmad.\n",
      "Predicted translation: ['jangan mempermainkan ahmad ! <end>']\n"
     ]
    }
   ],
   "source": [
    "translate(u'Bèk kapeu meuen Ahmad.')"
   ]
  },
  {
   "cell_type": "code",
   "execution_count": 25,
   "metadata": {
    "id": "0uluzkynxGbc"
   },
   "outputs": [
    {
     "name": "stdout",
     "output_type": "stream",
     "text": [
      "[[  5  20  36  15 452   4   3]]\n",
      "Input: Lôn adalah sidroe yang gasa.\n",
      "Predicted translation: ['saya adalah seorang yang kasar . <end>']\n"
     ]
    }
   ],
   "source": [
    "translate(u'Lôn adalah sidroe yang gasa.')"
   ]
  },
  {
   "cell_type": "code",
   "execution_count": 26,
   "metadata": {
    "id": "lftCsLdAxGlm"
   },
   "outputs": [
    {
     "name": "stdout",
     "output_type": "stream",
     "text": [
      "[[ 11  20  36  15 452   4   3]]\n",
      "Input: Jih adalah sidroe yang gasa.\n",
      "Predicted translation: ['dia adalah seorang yang kasar . <end>']\n"
     ]
    }
   ],
   "source": [
    "translate(u'Jih adalah sidroe yang gasa.')"
   ]
  },
  {
   "cell_type": "code",
   "execution_count": 27,
   "metadata": {
    "id": "A4GOLj-8xGvi"
   },
   "outputs": [
    {
     "name": "stdout",
     "output_type": "stream",
     "text": [
      "[[11 32  5  4  3]]\n",
      "Input: Jih galak lôn.\n",
      "Predicted translation: ['dia suka saya . <end>']\n"
     ]
    }
   ],
   "source": [
    "translate(u'Jih galak lôn.')"
   ]
  },
  {
   "cell_type": "code",
   "execution_count": 28,
   "metadata": {
    "id": "x9pPZ9_mxG4m"
   },
   "outputs": [
    {
     "name": "stdout",
     "output_type": "stream",
     "text": [
      "[[11 13 44  6  3]]\n",
      "Input: Jih nyan soe?\n",
      "Predicted translation: ['dia itu siapa ? <end>']\n"
     ]
    }
   ],
   "source": [
    "translate(u'Jih nyan soe?')"
   ]
  },
  {
   "cell_type": "code",
   "execution_count": 29,
   "metadata": {
    "id": "G8ywL0YOxHBZ"
   },
   "outputs": [
    {
     "name": "stdout",
     "output_type": "stream",
     "text": [
      "[[  7  15 427   4   3]]\n",
      "Input: Ahmad yang keuphôn.\n",
      "Predicted translation: ['ahmad yang pertama . <end>']\n"
     ]
    }
   ],
   "source": [
    "translate(u'Ahmad yang keuphôn.')"
   ]
  },
  {
   "cell_type": "code",
   "execution_count": 30,
   "metadata": {
    "id": "kkd1lmxdxHKg"
   },
   "outputs": [
    {
     "name": "stdout",
     "output_type": "stream",
     "text": [
      "[[ 7 10  9  9  6  3]]\n",
      "Input: Ahmad hana peu-peu.\n",
      "Predicted translation: ['ahmad tidak apa apa ? <end>']\n"
     ]
    }
   ],
   "source": [
    "translate(u'Ahmad hana peu-peu.')"
   ]
  },
  {
   "cell_type": "code",
   "execution_count": 31,
   "metadata": {
    "id": "8mrpK3P4xHTJ"
   },
   "outputs": [
    {
     "name": "stdout",
     "output_type": "stream",
     "text": [
      "[[  7 270   4   3]]\n",
      "Input: Ahmad seudéh.\n",
      "Predicted translation: ['ahmad sedih . <end>']\n"
     ]
    }
   ],
   "source": [
    "translate(u'Ahmad seudéh.')"
   ]
  },
  {
   "cell_type": "code",
   "execution_count": 32,
   "metadata": {
    "id": "qucdaCa0xHbU"
   },
   "outputs": [
    {
     "name": "stdout",
     "output_type": "stream",
     "text": [
      "[[  5 102   7  16  49   4   3]]\n",
      "Input: Lôn kalön Ahmad di miyup nyoe.\n",
      "Predicted translation: ['saya melihat ahmad di dalam . <end>']\n"
     ]
    }
   ],
   "source": [
    "translate(u'Lôn kalön Ahmad di miyup nyoe.')"
   ]
  },
  {
   "cell_type": "code",
   "execution_count": 33,
   "metadata": {
    "id": "7jlLHGdUxHkg"
   },
   "outputs": [
    {
     "name": "stdout",
     "output_type": "stream",
     "text": [
      "[[129  10   9   9   6   3]]\n",
      "Input: Awakkah hana pu-pu?\n",
      "Predicted translation: ['kalian tidak apa apa ? <end>']\n"
     ]
    }
   ],
   "source": [
    "translate(u'Awakkah hana pu-pu?')"
   ]
  },
  {
   "cell_type": "code",
   "execution_count": 34,
   "metadata": {
    "id": "4bTFuno6xHs4"
   },
   "outputs": [
    {
     "name": "stdout",
     "output_type": "stream",
     "text": [
      "[[ 13  33 101   4   3]]\n",
      "Input: Nyan kön urusan Ahmad.\n",
      "Predicted translation: ['itu bukan mencobanya . <end>']\n"
     ]
    }
   ],
   "source": [
    "translate(u'Nyan kön urusan Ahmad.')"
   ]
  },
  {
   "cell_type": "code",
   "execution_count": 35,
   "metadata": {
    "id": "RFTs0uMlxH1Y"
   },
   "outputs": [
    {
     "name": "stdout",
     "output_type": "stream",
     "text": [
      "[[13 13  5  4  3]]\n",
      "Input: Nyan urusan lôn.\n",
      "Predicted translation: ['itu itu saya . <end>']\n"
     ]
    }
   ],
   "source": [
    "translate(u'Nyan urusan lôn.')"
   ]
  },
  {
   "cell_type": "code",
   "execution_count": 36,
   "metadata": {
    "id": "Mu_yRtgoxH-L"
   },
   "outputs": [
    {
     "name": "stdout",
     "output_type": "stream",
     "text": [
      "[[13 33 74  5  4  3]]\n",
      "Input: Nyan kön moto lôn.\n",
      "Predicted translation: ['itu bukan masalah saya . <end>']\n"
     ]
    }
   ],
   "source": [
    "translate(u'Nyan kön moto lôn.')"
   ]
  },
  {
   "cell_type": "code",
   "execution_count": 37,
   "metadata": {
    "id": "iHAL8VkhxIRJ"
   },
   "outputs": [
    {
     "name": "stdout",
     "output_type": "stream",
     "text": [
      "[[  5  10  32 776 777   4   3]]\n",
      "Input: Lôn hana galak sie lumo.\n",
      "Predicted translation: ['saya tidak suka daging sapi . <end>']\n"
     ]
    }
   ],
   "source": [
    "translate(u'Lôn hana galak sie lumo.')"
   ]
  },
  {
   "cell_type": "code",
   "execution_count": 38,
   "metadata": {
    "id": "nxyp2Kq9xIaJ"
   },
   "outputs": [
    {
     "name": "stdout",
     "output_type": "stream",
     "text": [
      "[[  5  32 217 776   4   3]]\n",
      "Input: Lôn galak sie lumo.\n",
      "Predicted translation: ['saya suka makanan daging . <end>']\n"
     ]
    }
   ],
   "source": [
    "translate(u'Lôn galak sie lumo.')"
   ]
  },
  {
   "cell_type": "code",
   "execution_count": 39,
   "metadata": {
    "id": "q19ZUSZMxIid"
   },
   "outputs": [
    {
     "name": "stdout",
     "output_type": "stream",
     "text": [
      "[[  7  32 217   4   3]]\n",
      "Input: Ahmad galak sie lumo.\n",
      "Predicted translation: ['ahmad suka makanan . <end>']\n"
     ]
    }
   ],
   "source": [
    "translate(u'Ahmad galak sie lumo.')"
   ]
  },
  {
   "cell_type": "code",
   "execution_count": 40,
   "metadata": {
    "id": "1SocBP_6xIrE"
   },
   "outputs": [
    {
     "name": "stdout",
     "output_type": "stream",
     "text": [
      "[[  5  38 778   4   3]]\n",
      "Input: Lôn ka di peutubiet.\n",
      "Predicted translation: ['saya sudah dikeluarkan . <end>']\n"
     ]
    }
   ],
   "source": [
    "translate(u'Lôn ka di peutubiet.')"
   ]
  },
  {
   "cell_type": "code",
   "execution_count": 41,
   "metadata": {
    "id": "mANeStgcxI0R"
   },
   "outputs": [
    {
     "name": "stdout",
     "output_type": "stream",
     "text": [
      "[[ 11  38  46 121   4   3]]\n",
      "Input: Jih ka sep meubantu.\n",
      "Predicted translation: ['dia sudah cukup membantu . <end>']\n"
     ]
    }
   ],
   "source": [
    "translate(u'Jih ka sep meubantu.')"
   ]
  },
  {
   "cell_type": "code",
   "execution_count": 42,
   "metadata": {
    "id": "AteyNDVsxI8p"
   },
   "outputs": [
    {
     "name": "stdout",
     "output_type": "stream",
     "text": [
      "[[  7  10 217   4   3]]\n",
      "Input: Ahmad hana meubantu.\n",
      "Predicted translation: ['ahmad tidak makanan . <end>']\n"
     ]
    }
   ],
   "source": [
    "translate(u'Ahmad hana meubantu.')"
   ]
  },
  {
   "cell_type": "code",
   "execution_count": 43,
   "metadata": {
    "id": "TjTBcZ0gxJEl"
   },
   "outputs": [
    {
     "name": "stdout",
     "output_type": "stream",
     "text": [
      "[[ 18 766   7   6   3]]\n",
      "Input: Peukeuh rumôh Ahmad jioh?\n",
      "Predicted translation: ['apakah rumahmu ahmad ? <end>']\n"
     ]
    }
   ],
   "source": [
    "translate(u'Peukeuh rumôh Ahmad jioh?')"
   ]
  },
  {
   "cell_type": "code",
   "execution_count": 44,
   "metadata": {
    "id": "pwjQoBNYxJM6"
   },
   "outputs": [
    {
     "name": "stdout",
     "output_type": "stream",
     "text": [
      "[[18  7  4  3]]\n",
      "Input: Peukeuh hana beda?\n",
      "Predicted translation: ['apakah ahmad . <end>']\n"
     ]
    }
   ],
   "source": [
    "translate(u'Peukeuh hana beda?')"
   ]
  },
  {
   "cell_type": "code",
   "execution_count": 45,
   "metadata": {
    "id": "MtNrNIfMxJVa"
   },
   "outputs": [
    {
     "name": "stdout",
     "output_type": "stream",
     "text": [
      "[[  7  10  32 237   4   3]]\n",
      "Input: Ahmad hana galak bôh manok.\n",
      "Predicted translation: ['ahmad tidak suka telur . <end>']\n"
     ]
    }
   ],
   "source": [
    "translate(u'Ahmad hana galak bôh manok.')"
   ]
  },
  {
   "cell_type": "code",
   "execution_count": 46,
   "metadata": {
    "id": "F4CSx2v6xJe8"
   },
   "outputs": [
    {
     "name": "stdout",
     "output_type": "stream",
     "text": [
      "[[  7  32 534   4   3]]\n",
      "Input: Ahmad galak bôh manok.\n",
      "Predicted translation: ['ahmad suka terung . <end>']\n"
     ]
    }
   ],
   "source": [
    "translate(u'Ahmad galak bôh manok.')"
   ]
  },
  {
   "cell_type": "code",
   "execution_count": 47,
   "metadata": {
    "id": "SzLKUgWZxJvv"
   },
   "outputs": [
    {
     "name": "stdout",
     "output_type": "stream",
     "text": [
      "[[ 18   7  25 200   6   3]]\n",
      "Input: Peukeuh Ahmad na sitangèn?\n",
      "Predicted translation: ['apakah ahmad punya sepeda ? <end>']\n"
     ]
    }
   ],
   "source": [
    "translate(u'Peukeuh Ahmad na sitangèn?')"
   ]
  },
  {
   "cell_type": "code",
   "execution_count": 48,
   "metadata": {
    "id": "rfAAUzXvxJ48"
   },
   "outputs": [
    {
     "name": "stdout",
     "output_type": "stream",
     "text": [
      "[[  7  20 128   5  14   3]]\n",
      "Input: Ahmad bèk peugah aba!\n",
      "Predicted translation: ['ahmad adalah kakak saya ! <end>']\n"
     ]
    }
   ],
   "source": [
    "translate(u'Ahmad bèk peugah aba!')"
   ]
  },
  {
   "cell_type": "code",
   "execution_count": 49,
   "metadata": {
    "id": "UDcymp1zxKBn"
   },
   "outputs": [
    {
     "name": "stdout",
     "output_type": "stream",
     "text": [
      "[[69 39 65 70  6  3]]\n",
      "Input: Nisa mantöng golom meuphom?\n",
      "Predicted translation: ['nisa masih belum mengerti ? <end>']\n"
     ]
    }
   ],
   "source": [
    "translate(u'Nisa mantöng golom meuphom?')"
   ]
  },
  {
   "cell_type": "code",
   "execution_count": 50,
   "metadata": {
    "id": "rGhwoDNtxKK5"
   },
   "outputs": [
    {
     "name": "stdout",
     "output_type": "stream",
     "text": [
      "[[  7 186  66   4   3]]\n",
      "Input: Ahmad perlè pèng.\n",
      "Predicted translation: ['ahmad membutuhkan uang . <end>']\n"
     ]
    }
   ],
   "source": [
    "translate(u'Ahmad perlè pèng.')"
   ]
  },
  {
   "cell_type": "code",
   "execution_count": 51,
   "metadata": {
    "id": "dztp4KwcxKTp"
   },
   "outputs": [
    {
     "name": "stdout",
     "output_type": "stream",
     "text": [
      "[[53 51  7  4  3]]\n",
      "Input: Teurimeng geunaseh Ahmad.\n",
      "Predicted translation: ['terima kasih ahmad . <end>']\n"
     ]
    }
   ],
   "source": [
    "translate(u'Teurimeng geunaseh Ahmad.')"
   ]
  },
  {
   "cell_type": "code",
   "execution_count": 52,
   "metadata": {
    "id": "Wss8LIHsxKbj"
   },
   "outputs": [
    {
     "name": "stdout",
     "output_type": "stream",
     "text": [
      "[[ 11  20  36  15 452   4   3]]\n",
      "Input: Jih adalah sidroe yang gasa.\n",
      "Predicted translation: ['dia adalah seorang yang kasar . <end>']\n"
     ]
    }
   ],
   "source": [
    "translate(u'Jih adalah sidroe yang gasa.')"
   ]
  },
  {
   "cell_type": "code",
   "execution_count": 53,
   "metadata": {
    "id": "QScWY665xKkT"
   },
   "outputs": [
    {
     "name": "stdout",
     "output_type": "stream",
     "text": [
      "[[ 30  19 227   4   3]]\n",
      "Input: Awak nyan akan meutarông.\n",
      "Predicted translation: ['mereka akan bertarung . <end>']\n"
     ]
    }
   ],
   "source": [
    "translate(u'Awak nyan akan meutarông.')"
   ]
  },
  {
   "cell_type": "code",
   "execution_count": 54,
   "metadata": {
    "id": "kLCxrIiSxKsE"
   },
   "outputs": [
    {
     "name": "stdout",
     "output_type": "stream",
     "text": [
      "[[  7 425   5   4   3]]\n",
      "Input: Ahmad poh lôn.\n",
      "Predicted translation: ['ahmad memukul saya . <end>']\n"
     ]
    }
   ],
   "source": [
    "translate(u'Ahmad poh lôn.')"
   ]
  },
  {
   "cell_type": "code",
   "execution_count": 55,
   "metadata": {
    "id": "ojZ6JKaTxK0N"
   },
   "outputs": [
    {
     "name": "stdout",
     "output_type": "stream",
     "text": [
      "[[138 794 144  12   4   3]]\n",
      "Input: Kalön makanan di miyup nyoe.\n",
      "Predicted translation: ['lihat ulang tahun ini . <end>']\n"
     ]
    }
   ],
   "source": [
    "translate(u'Kalön makanan di miyup nyoe.')"
   ]
  },
  {
   "cell_type": "code",
   "execution_count": 56,
   "metadata": {
    "id": "XekDL91TxK8q"
   },
   "outputs": [
    {
     "name": "stdout",
     "output_type": "stream",
     "text": [
      "[[11 39 65 70  4  3]]\n",
      "Input: Jih mantöng golom meuphom.\n",
      "Predicted translation: ['dia masih belum mengerti . <end>']\n"
     ]
    }
   ],
   "source": [
    "translate(u'Jih mantöng golom meuphom.')"
   ]
  },
  {
   "cell_type": "code",
   "execution_count": 57,
   "metadata": {
    "id": "JihVXXMVxLE1"
   },
   "outputs": [
    {
     "name": "stdout",
     "output_type": "stream",
     "text": [
      "[[  9   7 136 440   6   3]]\n",
      "Input: Peu Ahmad meuen boling?\n",
      "Predicted translation: ['apa ahmad bermain boling ? <end>']\n"
     ]
    }
   ],
   "source": [
    "translate(u'Peu Ahmad meuen boling?')"
   ]
  },
  {
   "cell_type": "code",
   "execution_count": 58,
   "metadata": {
    "id": "O3EzEtLdxLVN"
   },
   "outputs": [
    {
     "name": "stdout",
     "output_type": "stream",
     "text": [
      "[[  9   8 136 440   6   3]]\n",
      "Input: Peu awak nyan meuen boling?\n",
      "Predicted translation: ['apa kamu bermain boling ? <end>']\n"
     ]
    }
   ],
   "source": [
    "translate(u'Peu awak nyan meuen boling?')"
   ]
  },
  {
   "cell_type": "code",
   "execution_count": 59,
   "metadata": {
    "id": "euEM4D_HxLd1"
   },
   "outputs": [
    {
     "name": "stdout",
     "output_type": "stream",
     "text": [
      "[[  9 129 318   6   3]]\n",
      "Input: Peu awakkah meuen boling?\n",
      "Predicted translation: ['apa kalian mobilmu ? <end>']\n"
     ]
    }
   ],
   "source": [
    "translate(u'Peu awakkah meuen boling?')"
   ]
  },
  {
   "cell_type": "code",
   "execution_count": 60,
   "metadata": {
    "id": "Cwxnk-ZZxLme"
   },
   "outputs": [
    {
     "name": "stdout",
     "output_type": "stream",
     "text": [
      "[[ 31 690  14   3]]\n",
      "Input: Bèk kapeumeuen jih!\n",
      "Predicted translation: ['jangan sentuh ! <end>']\n"
     ]
    }
   ],
   "source": [
    "translate(u'Bèk kapeumeuen jih!')"
   ]
  },
  {
   "cell_type": "code",
   "execution_count": 61,
   "metadata": {
    "id": "ek4ITfu7xLwV"
   },
   "outputs": [
    {
     "name": "stdout",
     "output_type": "stream",
     "text": [
      "[[ 11  24 627   4   3]]\n",
      "Input: Jih that menyesal.\n",
      "Predicted translation: ['dia sangat berantakan . <end>']\n"
     ]
    }
   ],
   "source": [
    "translate(u'Jih that menyesal.')"
   ]
  },
  {
   "cell_type": "code",
   "execution_count": 62,
   "metadata": {
    "id": "vf5du4OBxL5I"
   },
   "outputs": [
    {
     "name": "stdout",
     "output_type": "stream",
     "text": [
      "[[11 10 89  4  3]]\n",
      "Input: Jih hana menyesal.\n",
      "Predicted translation: ['dia tidak laki . <end>']\n"
     ]
    }
   ],
   "source": [
    "translate(u'Jih hana menyesal.')"
   ]
  },
  {
   "cell_type": "code",
   "execution_count": 63,
   "metadata": {
    "id": "LzBMsroCxMB4"
   },
   "outputs": [
    {
     "name": "stdout",
     "output_type": "stream",
     "text": [
      "[[ 30 258   7   4   3]]\n",
      "Input: Awak nyan kalön Ahmad.\n",
      "Predicted translation: ['mereka dulunya ahmad . <end>']\n"
     ]
    }
   ],
   "source": [
    "translate(u'Awak nyan kalön Ahmad.')"
   ]
  },
  {
   "cell_type": "code",
   "execution_count": 64,
   "metadata": {
    "id": "tPcLrrBDxMKA"
   },
   "outputs": [
    {
     "name": "stdout",
     "output_type": "stream",
     "text": [
      "[[  7 102  11   4   3]]\n",
      "Input: Ahmad kalön jih.\n",
      "Predicted translation: ['ahmad melihat dia . <end>']\n"
     ]
    }
   ],
   "source": [
    "translate(u'Ahmad kalön jih.')"
   ]
  },
  {
   "cell_type": "code",
   "execution_count": 65,
   "metadata": {
    "id": "gNvxq8xKxMSG"
   },
   "outputs": [
    {
     "name": "stdout",
     "output_type": "stream",
     "text": [
      "[[  7  10 103   4   3]]\n",
      "Input: Ahmad hana bahgia\n",
      "Predicted translation: ['ahmad tidak bahagia . <end>']\n"
     ]
    }
   ],
   "source": [
    "translate(u'Ahmad hana bahgia')"
   ]
  },
  {
   "cell_type": "code",
   "execution_count": 66,
   "metadata": {
    "id": "gewdmI9AxMal"
   },
   "outputs": [
    {
     "name": "stdout",
     "output_type": "stream",
     "text": [
      "[[  5  10 103   4   3]]\n",
      "Input: Lôn hana bahgia.\n",
      "Predicted translation: ['saya tidak bahagia . <end>']\n"
     ]
    }
   ],
   "source": [
    "translate(u'Lôn hana bahgia.')"
   ]
  },
  {
   "cell_type": "code",
   "execution_count": 67,
   "metadata": {
    "id": "MGaqV9Q9xMiT"
   },
   "outputs": [
    {
     "name": "stdout",
     "output_type": "stream",
     "text": [
      "[[ 11 564  67   7   4   3]]\n",
      "Input: Jih bahgia ngön Ahmad.\n",
      "Predicted translation: ['dia hanya dengan ahmad . <end>']\n"
     ]
    }
   ],
   "source": [
    "translate(u'Jih bahgia ngön Ahmad.')"
   ]
  },
  {
   "cell_type": "code",
   "execution_count": 68,
   "metadata": {
    "id": "0HeCYHRAxMsN"
   },
   "outputs": [
    {
     "name": "stdout",
     "output_type": "stream",
     "text": [
      "[[  8 309  28  60   4   3]]\n",
      "Input: Kah bakdeuh tingeh saket.\n",
      "Predicted translation: ['kamu tampak sedang sakit . <end>']\n"
     ]
    }
   ],
   "source": [
    "translate(u'Kah bakdeuh tingeh saket.')"
   ]
  },
  {
   "cell_type": "code",
   "execution_count": 69,
   "metadata": {
    "id": "Z5cgrc3fxM1o"
   },
   "outputs": [
    {
     "name": "stdout",
     "output_type": "stream",
     "text": [
      "[[  7  10 180  96   4   3]]\n",
      "Input: Ahmad hana teumpat tinggai.\n",
      "Predicted translation: ['ahmad tidak tempat tinggal . <end>']\n"
     ]
    }
   ],
   "source": [
    "translate(u'Ahmad hana teumpat tinggai.')"
   ]
  },
  {
   "cell_type": "code",
   "execution_count": 70,
   "metadata": {
    "id": "_zQECWL3xNAL"
   },
   "outputs": [
    {
     "name": "stdout",
     "output_type": "stream",
     "text": [
      "[[ 10  21  15 102  30   4   3]]\n",
      "Input: Hana yang kalön awak nyan.\n",
      "Predicted translation: ['tidak ada yang melihat mereka . <end>']\n"
     ]
    }
   ],
   "source": [
    "translate(u'Hana yang kalön awak nyan.')"
   ]
  },
  {
   "cell_type": "code",
   "execution_count": 71,
   "metadata": {
    "id": "58g7Ao9xxNKH"
   },
   "outputs": [
    {
     "name": "stdout",
     "output_type": "stream",
     "text": [
      "[[308  13  71   7   4   3]]\n",
      "Input: Peudeuh nyan bak Ahmad.\n",
      "Predicted translation: ['pasti itu pada ahmad . <end>']\n"
     ]
    }
   ],
   "source": [
    "translate(u'Peudeuh nyan bak Ahmad.')"
   ]
  },
  {
   "cell_type": "code",
   "execution_count": 72,
   "metadata": {
    "id": "PEQiowrnxNTP"
   },
   "outputs": [
    {
     "name": "stdout",
     "output_type": "stream",
     "text": [
      "[[208  13  71  11   4   3]]\n",
      "Input: Peudeuh nyan bak jih.\n",
      "Predicted translation: ['perlihatkan itu pada dia . <end>']\n"
     ]
    }
   ],
   "source": [
    "translate(u'Peudeuh nyan bak jih.')"
   ]
  },
  {
   "cell_type": "code",
   "execution_count": 73,
   "metadata": {
    "id": "ZqDRsM1ExNcW"
   },
   "outputs": [
    {
     "name": "stdout",
     "output_type": "stream",
     "text": [
      "[[ 31 208   5   4   3]]\n",
      "Input: Bèk peudeuh nyan bak lôn.\n",
      "Predicted translation: ['jangan perlihatkan saya . <end>']\n"
     ]
    }
   ],
   "source": [
    "translate(u'Bèk peudeuh nyan bak lôn.')"
   ]
  },
  {
   "cell_type": "code",
   "execution_count": 74,
   "metadata": {
    "id": "0ZvzRlYaxNlt"
   },
   "outputs": [
    {
     "name": "stdout",
     "output_type": "stream",
     "text": [
      "[[ 31 208  13   4   3]]\n",
      "Input: Bèk peudeuh nyan bak jih.\n",
      "Predicted translation: ['jangan perlihatkan itu . <end>']\n"
     ]
    }
   ],
   "source": [
    "translate(u'Bèk peudeuh nyan bak jih.')"
   ]
  },
  {
   "cell_type": "code",
   "execution_count": 75,
   "metadata": {
    "id": "TatSDaAMxNvM"
   },
   "outputs": [
    {
     "name": "stdout",
     "output_type": "stream",
     "text": [
      "[[ 31 280   7   4   3]]\n",
      "Input: Bèk peuleuh Ahmad.\n",
      "Predicted translation: ['jangan lupakan ahmad . <end>']\n"
     ]
    }
   ],
   "source": [
    "translate(u'Bèk peuleuh Ahmad.')"
   ]
  },
  {
   "cell_type": "code",
   "execution_count": 76,
   "metadata": {
    "id": "Gdhxx4NoxN4S"
   },
   "outputs": [
    {
     "name": "stdout",
     "output_type": "stream",
     "text": [
      "[[ 11 570   7   4   3]]\n",
      "Input: Jih i peusalah Ahmad.\n",
      "Predicted translation: ['dia supir ahmad . <end>']\n"
     ]
    }
   ],
   "source": [
    "translate(u'Jih i peusalah Ahmad.')"
   ]
  },
  {
   "cell_type": "code",
   "execution_count": 77,
   "metadata": {
    "id": "XBnbWLndxOBZ"
   },
   "outputs": [
    {
     "name": "stdout",
     "output_type": "stream",
     "text": [
      "[[ 11  56  10 103   4   3]]\n",
      "Input: Jih meurasa hana bahgia.\n",
      "Predicted translation: ['dia merasa tidak bahagia . <end>']\n"
     ]
    }
   ],
   "source": [
    "translate(u'Jih meurasa hana bahgia.')"
   ]
  },
  {
   "cell_type": "code",
   "execution_count": 78,
   "metadata": {
    "id": "f2KmpIzdI-0J"
   },
   "outputs": [
    {
     "name": "stdout",
     "output_type": "stream",
     "text": [
      "[[ 11  10 285   4   3]]\n",
      "Input: Jih hana beuruntông.\n",
      "Predicted translation: ['dia tidak haus . <end>']\n"
     ]
    }
   ],
   "source": [
    "translate(u'Jih hana beuruntông.')"
   ]
  },
  {
   "cell_type": "code",
   "execution_count": 79,
   "metadata": {
    "id": "GX-3-0O8xOU8"
   },
   "outputs": [
    {
     "name": "stdout",
     "output_type": "stream",
     "text": [
      "[[ 30 194   4   3]]\n",
      "Input: Awak nyan beuruntông.\n",
      "Predicted translation: ['mereka merah . <end>']\n"
     ]
    }
   ],
   "source": [
    "translate(u'Awak nyan beuruntông.')"
   ]
  },
  {
   "cell_type": "code",
   "execution_count": 80,
   "metadata": {
    "id": "09-eKD_RxOfU"
   },
   "outputs": [
    {
     "name": "stdout",
     "output_type": "stream",
     "text": [
      "[[  5 189  71 738   4   3]]\n",
      "Input: Lôn yee keu mate.\n",
      "Predicted translation: ['saya takut pada kematian . <end>']\n"
     ]
    }
   ],
   "source": [
    "translate(u'Lôn yee keu mate.')"
   ]
  },
  {
   "cell_type": "code",
   "execution_count": 81,
   "metadata": {
    "id": "nhiXyEE1xOpM"
   },
   "outputs": [
    {
     "name": "stdout",
     "output_type": "stream",
     "text": [
      "[[  7 629  11 455   4   3]]\n",
      "Input: Ahmad akui jih salah.\n",
      "Predicted translation: ['ahmad akui dia mengenalnya . <end>']\n"
     ]
    }
   ],
   "source": [
    "translate(u'Ahmad akui jih salah.')"
   ]
  },
  {
   "cell_type": "code",
   "execution_count": 82,
   "metadata": {
    "id": "ANcnTlY0xOzU"
   },
   "outputs": [
    {
     "name": "stdout",
     "output_type": "stream",
     "text": [
      "[[  7  10 117   4   3]]\n",
      "Input: Ahmad hana patéh keu Nisa.\n",
      "Predicted translation: ['ahmad tidak percaya . <end>']\n"
     ]
    }
   ],
   "source": [
    "translate(u'Ahmad hana patéh keu Nisa.')"
   ]
  },
  {
   "cell_type": "code",
   "execution_count": 83,
   "metadata": {
    "id": "AVQ2hi0qxO-S"
   },
   "outputs": [
    {
     "name": "stdout",
     "output_type": "stream",
     "text": [
      "[[  5  10 117  78   4   3]]\n",
      "Input: Lôn hana patéh keu Ahmad.\n",
      "Predicted translation: ['saya tidak percaya padamu . <end>']\n"
     ]
    }
   ],
   "source": [
    "translate(u'Lôn hana patéh keu Ahmad.')"
   ]
  },
  {
   "cell_type": "code",
   "execution_count": 84,
   "metadata": {
    "id": "vgkYekb9xPJe"
   },
   "outputs": [
    {
     "name": "stdout",
     "output_type": "stream",
     "text": [
      "[[  5 117  20   4   3]]\n",
      "Input: Lôn patéh keu Ahmad.\n",
      "Predicted translation: ['saya percaya adalah . <end>']\n"
     ]
    }
   ],
   "source": [
    "translate(u'Lôn patéh keu Ahmad.')"
   ]
  },
  {
   "cell_type": "code",
   "execution_count": 85,
   "metadata": {
    "id": "oiWsYRhrxPTp"
   },
   "outputs": [
    {
     "name": "stdout",
     "output_type": "stream",
     "text": [
      "[[  5  76  48 256   4   3]]\n",
      "Input: Lôn hawa meureumpök ngön kah.\n",
      "Predicted translation: ['saya ingin bertemu dengannya . <end>']\n"
     ]
    }
   ],
   "source": [
    "translate(u'Lôn hawa meureumpök ngön kah.')"
   ]
  },
  {
   "cell_type": "code",
   "execution_count": 86,
   "metadata": {
    "id": "jEI6SSrkxPeC"
   },
   "outputs": [
    {
     "name": "stdout",
     "output_type": "stream",
     "text": [
      "[[  7  61  48 256   4   3]]\n",
      "Input: Ahmad hawa meureumpök ngön jih.\n",
      "Predicted translation: ['ahmad mau bertemu dengannya . <end>']\n"
     ]
    }
   ],
   "source": [
    "translate(u'Ahmad hawa meureumpök ngön jih.')"
   ]
  },
  {
   "cell_type": "code",
   "execution_count": 87,
   "metadata": {
    "id": "zW_oDAUOxPsp"
   },
   "outputs": [
    {
     "name": "stdout",
     "output_type": "stream",
     "text": [
      "[[ 5 76 48 11  4  3]]\n",
      "Input: Lôn hawa meureumpök jih.\n",
      "Predicted translation: ['saya ingin bertemu dia . <end>']\n"
     ]
    }
   ],
   "source": [
    "translate(u'Lôn hawa meureumpök jih.')"
   ]
  },
  {
   "cell_type": "code",
   "execution_count": 88,
   "metadata": {
    "id": "KhRVP59TxQLp"
   },
   "outputs": [
    {
     "name": "stdout",
     "output_type": "stream",
     "text": [
      "[[ 7 21 16 49 68  4  3]]\n",
      "Input: Ahmad na di dalam moto.\n",
      "Predicted translation: ['ahmad ada di dalam mobil . <end>']\n"
     ]
    }
   ],
   "source": [
    "translate(u'Ahmad na di dalam moto.')"
   ]
  },
  {
   "cell_type": "code",
   "execution_count": 89,
   "metadata": {
    "id": "rfCPlctixQVa"
   },
   "outputs": [
    {
     "name": "stdout",
     "output_type": "stream",
     "text": [
      "[[  7  36  15 115   4   3]]\n",
      "Input: Ahmad sidroe yang hana sempurna.\n",
      "Predicted translation: ['ahmad seorang yang sempurna . <end>']\n"
     ]
    }
   ],
   "source": [
    "translate(u'Ahmad sidroe yang hana sempurna.')"
   ]
  },
  {
   "cell_type": "code",
   "execution_count": 90,
   "metadata": {
    "id": "OffGRDyTxQfj"
   },
   "outputs": [
    {
     "name": "stdout",
     "output_type": "stream",
     "text": [
      "[[ 10  21  15 248  78   4   3]]\n",
      "Input: Hana yang tanyöng bak jih.\n",
      "Predicted translation: ['tidak ada yang bertanya padamu . <end>']\n"
     ]
    }
   ],
   "source": [
    "translate(u'Hana yang tanyöng bak jih.')"
   ]
  },
  {
   "cell_type": "code",
   "execution_count": 91,
   "metadata": {
    "id": "uPdcr4ToxQot"
   },
   "outputs": [
    {
     "name": "stdout",
     "output_type": "stream",
     "text": [
      "[[  9  15 607 608   6   3]]\n",
      "Input: Peu yang peugöt jih jaga?\n",
      "Predicted translation: ['apa yang membuatmu terbangun ? <end>']\n"
     ]
    }
   ],
   "source": [
    "translate(u'Peu yang peugöt jih jaga?')"
   ]
  },
  {
   "cell_type": "code",
   "execution_count": 92,
   "metadata": {
    "id": "PhPqjkHExQyW"
   },
   "outputs": [
    {
     "name": "stdout",
     "output_type": "stream",
     "text": [
      "[[  9  15 607 608   6   3]]\n",
      "Input: Peu yang peugöt kah hana jaga?\n",
      "Predicted translation: ['apa yang membuatmu terbangun ? <end>']\n"
     ]
    }
   ],
   "source": [
    "translate(u'Peu yang peugöt kah hana jaga?')"
   ]
  },
  {
   "cell_type": "code",
   "execution_count": 93,
   "metadata": {
    "id": "is5JtJspxQ7Z"
   },
   "outputs": [
    {
     "name": "stdout",
     "output_type": "stream",
     "text": [
      "[[154  23  40  74   6   3]]\n",
      "Input: Pakön tanyoe harus bayeu?\n",
      "Predicted translation: ['mengapa kita harus masalah ? <end>']\n"
     ]
    }
   ],
   "source": [
    "translate(u'Pakön tanyoe harus bayeu?')"
   ]
  },
  {
   "cell_type": "code",
   "execution_count": 94,
   "metadata": {
    "id": "L3dyl_7LxRFG"
   },
   "outputs": [
    {
     "name": "stdout",
     "output_type": "stream",
     "text": [
      "[[155  11  10 711   6   3]]\n",
      "Input: Pakön jih hana bayeu?\n",
      "Predicted translation: ['ia dia tidak asing ? <end>']\n"
     ]
    }
   ],
   "source": [
    "translate(u'Pakön jih hana bayeu?')"
   ]
  },
  {
   "cell_type": "code",
   "execution_count": 95,
   "metadata": {
    "id": "PwRFNBOGxRNA"
   },
   "outputs": [
    {
     "name": "stdout",
     "output_type": "stream",
     "text": [
      "[[ 11  10  89 156  11   4   3]]\n",
      "Input: Jih hana deungö.\n",
      "Predicted translation: ['dia tidak laki mempercayai dia . <end>']\n"
     ]
    }
   ],
   "source": [
    "translate(u'Jih hana deungö.')"
   ]
  },
  {
   "cell_type": "code",
   "execution_count": 96,
   "metadata": {
    "id": "HRP6GZvexRWT"
   },
   "outputs": [
    {
     "name": "stdout",
     "output_type": "stream",
     "text": [
      "[[  9   8 132 332   6   3]]\n",
      "Input: Peu awak nyan mandum ka siap?\n",
      "Predicted translation: ['apa kamu semua siap ? <end>']\n"
     ]
    }
   ],
   "source": [
    "translate(u'Peu awak nyan mandum ka siap?')"
   ]
  },
  {
   "cell_type": "code",
   "execution_count": 97,
   "metadata": {
    "id": "Ysna0oWfxRek"
   },
   "outputs": [
    {
     "name": "stdout",
     "output_type": "stream",
     "text": [
      "[[11 10  9  9  6  3]]\n",
      "Input: Jih hana pu-pu?\n",
      "Predicted translation: ['dia tidak apa apa ? <end>']\n"
     ]
    }
   ],
   "source": [
    "translate(u'Jih hana pu-pu?')"
   ]
  },
  {
   "cell_type": "code",
   "execution_count": 98,
   "metadata": {
    "id": "wwbVJijexRnn"
   },
   "outputs": [
    {
     "name": "stdout",
     "output_type": "stream",
     "text": [
      "[[ 31 199  11   4   3]]\n",
      "Input: Bèk kapeu keucewa jih.\n",
      "Predicted translation: ['jangan mengecewakan dia . <end>']\n"
     ]
    }
   ],
   "source": [
    "translate(u'Bèk kapeu keucewa jih.')"
   ]
  },
  {
   "cell_type": "code",
   "execution_count": 99,
   "metadata": {
    "id": "rKPpLeAfxRxk"
   },
   "outputs": [
    {
     "name": "stdout",
     "output_type": "stream",
     "text": [
      "[[ 31 199  29   4   3]]\n",
      "Input: Bèk kapeu keucewa kamoe.\n",
      "Predicted translation: ['jangan mengecewakan kami . <end>']\n"
     ]
    }
   ],
   "source": [
    "translate(u'Bèk kapeu keucewa kamoe.')"
   ]
  },
  {
   "cell_type": "code",
   "execution_count": 100,
   "metadata": {
    "id": "g0YizwNExR6t"
   },
   "outputs": [
    {
     "name": "stdout",
     "output_type": "stream",
     "text": [
      "[[ 31 199  30   4   3]]\n",
      "Input: Bèk kapeu keucewa awak nyan.\n",
      "Predicted translation: ['jangan mengecewakan mereka . <end>']\n"
     ]
    }
   ],
   "source": [
    "translate(u'Bèk kapeu keucewa awak nyan.')"
   ]
  },
  {
   "cell_type": "code",
   "execution_count": 101,
   "metadata": {
    "id": "4xVlogwxxSFX"
   },
   "outputs": [
    {
     "name": "stdout",
     "output_type": "stream",
     "text": [
      "[[ 69  39 124   4   3]]\n",
      "Input: Nisa mantöng muda.\n",
      "Predicted translation: ['nisa masih muda . <end>']\n"
     ]
    }
   ],
   "source": [
    "translate(u'Nisa mantöng muda.')"
   ]
  },
  {
   "cell_type": "code",
   "execution_count": 102,
   "metadata": {
    "id": "cereYFnDxSWi"
   },
   "outputs": [
    {
     "name": "stdout",
     "output_type": "stream",
     "text": [
      "[[30 39 65 16 37  4  3]]\n",
      "Input: Awak nyan mantöng golom i noe.\n",
      "Predicted translation: ['mereka masih belum di sini . <end>']\n"
     ]
    }
   ],
   "source": [
    "translate(u'Awak nyan mantöng golom i noe.')"
   ]
  },
  {
   "cell_type": "code",
   "execution_count": 103,
   "metadata": {
    "id": "RTbPnN1JxSiZ"
   },
   "outputs": [
    {
     "name": "stdout",
     "output_type": "stream",
     "text": [
      "[[  7  33 234   4   3]]\n",
      "Input: Ahmad kön dokter.\n",
      "Predicted translation: ['ahmad bukan dokter . <end>']\n"
     ]
    }
   ],
   "source": [
    "translate(u'Ahmad kön dokter.')"
   ]
  },
  {
   "cell_type": "code",
   "execution_count": 104,
   "metadata": {
    "id": "6102ZC87xStE"
   },
   "outputs": [
    {
     "name": "stdout",
     "output_type": "stream",
     "text": [
      "[[  5  32 534   4   3]]\n",
      "Input: Lôn galak bôh manok.\n",
      "Predicted translation: ['saya suka terung . <end>']\n"
     ]
    }
   ],
   "source": [
    "translate(u'Lôn galak bôh manok.')"
   ]
  },
  {
   "cell_type": "code",
   "execution_count": 105,
   "metadata": {
    "id": "p5eChohlxS23"
   },
   "outputs": [
    {
     "name": "stdout",
     "output_type": "stream",
     "text": [
      "[[635  11 109   7   4   3]]\n",
      "Input: Satnyoe jih kalön Ahmad.\n",
      "Predicted translation: ['barusan dia hari ahmad . <end>']\n"
     ]
    }
   ],
   "source": [
    "translate(u'Satnyoe jih kalön Ahmad.')"
   ]
  },
  {
   "cell_type": "code",
   "execution_count": 106,
   "metadata": {
    "id": "6w6zRC98xTAJ"
   },
   "outputs": [
    {
     "name": "stdout",
     "output_type": "stream",
     "text": [
      "[[18 69 39 60  6  3]]\n",
      "Input: Peukeuh Nisa mantöng saket?\n",
      "Predicted translation: ['apakah nisa masih sakit ? <end>']\n"
     ]
    }
   ],
   "source": [
    "translate(u'Peukeuh Nisa mantöng saket?')"
   ]
  },
  {
   "cell_type": "code",
   "execution_count": 107,
   "metadata": {
    "id": "dDr8ObAexTKA"
   },
   "outputs": [
    {
     "name": "stdout",
     "output_type": "stream",
     "text": [
      "[[645  11 646   4   3]]\n",
      "Input: Hobi jih musik.\n",
      "Predicted translation: ['hobi dia musik . <end>']\n"
     ]
    }
   ],
   "source": [
    "translate(u'Hobi jih musik.')"
   ]
  },
  {
   "cell_type": "code",
   "execution_count": 108,
   "metadata": {
    "id": "K0pZvgzvxTS1"
   },
   "outputs": [
    {
     "name": "stdout",
     "output_type": "stream",
     "text": [
      "[[626 560   4   3]]\n",
      "Input: Jih hobi musik.\n",
      "Predicted translation: ['kamarnya ketemu . <end>']\n"
     ]
    }
   ],
   "source": [
    "translate(u'Jih hobi musik.')"
   ]
  },
  {
   "cell_type": "code",
   "execution_count": 109,
   "metadata": {
    "id": "wSD3B6MsxTbx"
   },
   "outputs": [
    {
     "name": "stdout",
     "output_type": "stream",
     "text": [
      "[[  5 728  15 115   4   3]]\n",
      "Input: Lôn ureueng yang hana sempurna.\n",
      "Predicted translation: ['saya paman yang sempurna . <end>']\n"
     ]
    }
   ],
   "source": [
    "translate(u'Lôn ureueng yang hana sempurna.')"
   ]
  },
  {
   "cell_type": "code",
   "execution_count": 110,
   "metadata": {
    "id": "4cCUsWtvxTkk"
   },
   "outputs": [
    {
     "name": "stdout",
     "output_type": "stream",
     "text": [
      "[[ 7 39  4  3]]\n",
      "Input: Ahmad mantöng bungeh.\n",
      "Predicted translation: ['ahmad masih . <end>']\n"
     ]
    }
   ],
   "source": [
    "translate(u'Ahmad mantöng bungeh.')"
   ]
  },
  {
   "cell_type": "code",
   "execution_count": 111,
   "metadata": {
    "id": "DxqNXkzlxTtM"
   },
   "outputs": [
    {
     "name": "stdout",
     "output_type": "stream",
     "text": [
      "[[  5  10 632   4   3]]\n",
      "Input: Lôn hana peusalah Ahmad.\n",
      "Predicted translation: ['saya tidak menyalahkanmu . <end>']\n"
     ]
    }
   ],
   "source": [
    "translate(u'Lôn hana peusalah Ahmad.')"
   ]
  },
  {
   "cell_type": "code",
   "execution_count": 112,
   "metadata": {
    "id": "IvaPbFIxxT3D"
   },
   "outputs": [
    {
     "name": "stdout",
     "output_type": "stream",
     "text": [
      "[[11 56 67 12  4  3]]\n",
      "Input: Jih meurasa göt uroe nyoe.\n",
      "Predicted translation: ['dia merasa dengan ini . <end>']\n"
     ]
    }
   ],
   "source": [
    "translate(u'Jih meurasa göt uroe nyoe.')"
   ]
  },
  {
   "cell_type": "code",
   "execution_count": 113,
   "metadata": {
    "id": "08cSG-69xT_r"
   },
   "outputs": [
    {
     "name": "stdout",
     "output_type": "stream",
     "text": [
      "[[ 11  76 352   4   3]]\n",
      "Input: Jih perle keurtah.\n",
      "Predicted translation: ['dia ingin kertas . <end>']\n"
     ]
    }
   ],
   "source": [
    "translate(u'Jih perle keurtah.')"
   ]
  },
  {
   "cell_type": "code",
   "execution_count": 114,
   "metadata": {
    "id": "5r7LqZUsxUIv"
   },
   "outputs": [
    {
     "name": "stdout",
     "output_type": "stream",
     "text": [
      "[[  5  76  48 256   4   3]]\n",
      "Input: Lôn hawa meureumpök ngön awak nyan.\n",
      "Predicted translation: ['saya ingin bertemu dengannya . <end>']\n"
     ]
    }
   ],
   "source": [
    "translate(u'Lôn hawa meureumpök ngön awak nyan.')"
   ]
  },
  {
   "cell_type": "code",
   "execution_count": 115,
   "metadata": {
    "id": "Sx3-9FnPxURU"
   },
   "outputs": [
    {
     "name": "stdout",
     "output_type": "stream",
     "text": [
      "[[ 30 324 627   4   3]]\n",
      "Input: Awak nyan that deuek.\n",
      "Predicted translation: ['mereka panas berantakan . <end>']\n"
     ]
    }
   ],
   "source": [
    "translate(u'Awak nyan that deuek.')"
   ]
  },
  {
   "cell_type": "code",
   "execution_count": 116,
   "metadata": {
    "id": "lTnOajfMxUaY"
   },
   "outputs": [
    {
     "name": "stdout",
     "output_type": "stream",
     "text": [
      "[[11 21 16 49 68  4  3]]\n",
      "Input: Jih na di dalam moto.\n",
      "Predicted translation: ['dia ada di dalam mobil . <end>']\n"
     ]
    }
   ],
   "source": [
    "translate(u'Jih na di dalam moto.')"
   ]
  },
  {
   "cell_type": "code",
   "execution_count": 117,
   "metadata": {
    "id": "DjO6W45exUjO"
   },
   "outputs": [
    {
     "name": "stdout",
     "output_type": "stream",
     "text": [
      "[[187  11 127  14   3]]\n",
      "Input: Kubah jih sidroe!\n",
      "Predicted translation: ['tinggalkan dia sendiri ! <end>']\n"
     ]
    }
   ],
   "source": [
    "translate(u'Kubah jih sidroe!')"
   ]
  },
  {
   "cell_type": "code",
   "execution_count": 118,
   "metadata": {
    "id": "Wkn3p1YWxUsl"
   },
   "outputs": [
    {
     "name": "stdout",
     "output_type": "stream",
     "text": [
      "[[ 11 148   4   3]]\n",
      "Input: Jih lagak.\n",
      "Predicted translation: ['dia cantik . <end>']\n"
     ]
    }
   ],
   "source": [
    "translate(u'Jih lagak.')"
   ]
  }
 ],
 "metadata": {
  "colab": {
   "collapsed_sections": [],
   "name": "Untitled0.ipynb",
   "provenance": []
  },
  "kernelspec": {
   "display_name": "Python 3",
   "language": "python",
   "name": "python3"
  },
  "language_info": {
   "codemirror_mode": {
    "name": "ipython",
    "version": 3
   },
   "file_extension": ".py",
   "mimetype": "text/x-python",
   "name": "python",
   "nbconvert_exporter": "python",
   "pygments_lexer": "ipython3",
   "version": "3.8.8"
  }
 },
 "nbformat": 4,
 "nbformat_minor": 1
}
